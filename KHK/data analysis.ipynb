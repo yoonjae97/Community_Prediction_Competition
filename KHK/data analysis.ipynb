{
 "cells": [
  {
   "cell_type": "code",
   "execution_count": 1,
   "id": "ae476659",
   "metadata": {},
   "outputs": [],
   "source": [
    "import numpy as np\n",
    "import pandas as pd"
   ]
  },
  {
   "cell_type": "code",
   "execution_count": 2,
   "id": "7635dfb9",
   "metadata": {},
   "outputs": [
    {
     "name": "stdout",
     "output_type": "stream",
     "text": [
      "<class 'pandas.core.frame.DataFrame'>\n",
      "Int64Index: 6897 entries, 0 to 6998\n",
      "Data columns (total 9 columns):\n",
      " #   Column               Non-Null Count  Dtype  \n",
      "---  ------               --------------  -----  \n",
      " 0   Warehouse_block      6897 non-null   object \n",
      " 1   Mode_of_Shipment     6532 non-null   object \n",
      " 2   Customer_care_calls  5346 non-null   float64\n",
      " 3   Customer_rating      6897 non-null   int64  \n",
      " 4   Cost_of_the_Product  6897 non-null   int64  \n",
      " 5   Prior_purchases      5959 non-null   float64\n",
      " 6   Product_importance   6897 non-null   object \n",
      " 7   Weight_in_gms        6453 non-null   object \n",
      " 8   Reached.on.Time_Y.N  6897 non-null   int64  \n",
      "dtypes: float64(2), int64(3), object(4)\n",
      "memory usage: 538.8+ KB\n"
     ]
    }
   ],
   "source": [
    "train = pd.read_csv(\"./data/Train.csv\")\n",
    "train.drop(['ID', 'Gender', 'Discount_offered'], axis=1, inplace=True)\n",
    "# 결측치의 형태가 ?인 데이터를 NA로 대체\n",
    "train = train.replace('?', pd.NA)\n",
    "\n",
    "# Warehouse_block 컬럼 이름에 공백들어가 있어서 재설정\n",
    "train.columns = ['Warehouse_block', 'Mode_of_Shipment', 'Customer_care_calls',\n",
    "       'Customer_rating', 'Cost_of_the_Product', 'Prior_purchases',\n",
    "       'Product_importance', 'Weight_in_gms', 'Reached.on.Time_Y.N']\n",
    "\n",
    "# 연속형 변수중에서 이상치 제거 (개수가 많지 않을뿐더러 5개를 채우려고 하는 것은 비효율적이라고 생각하기 때문)\n",
    "train = train[(train['Customer_rating']!=99) & (train['Cost_of_the_Product']!=9999)]\n",
    "\n",
    "# Mode_of_Shipment에서 끝에 zk가 붙은 이상치 수정\n",
    "train['Mode_of_Shipment'] = train['Mode_of_Shipment'].apply(lambda x: x.replace('zk', '') if pd.notna(x) else x)\n",
    "train = train[train['Product_importance'].notnull()]\n",
    "\n",
    "# Product_importance에서 끝에 m이 하나씩 더붙은 이상치 수정\n",
    "train['Product_importance'] = train['Product_importance'].apply(lambda x: x[:-1] if x[-1]==x[-2] else x)\n",
    "\n",
    "# gms가 null 혹은 str로 되어있어서 int로 변경\n",
    "train['Weight_in_gms'] = train['Weight_in_gms'].apply(lambda x: int(x) if str(x).isdigit() else x)\n",
    "train.info()"
   ]
  },
  {
   "cell_type": "code",
   "execution_count": null,
   "id": "6debe5dc",
   "metadata": {},
   "outputs": [],
   "source": []
  }
 ],
 "metadata": {
  "kernelspec": {
   "display_name": "Python 3 (ipykernel)",
   "language": "python",
   "name": "python3"
  },
  "language_info": {
   "codemirror_mode": {
    "name": "ipython",
    "version": 3
   },
   "file_extension": ".py",
   "mimetype": "text/x-python",
   "name": "python",
   "nbconvert_exporter": "python",
   "pygments_lexer": "ipython3",
   "version": "3.10.9"
  }
 },
 "nbformat": 4,
 "nbformat_minor": 5
}
