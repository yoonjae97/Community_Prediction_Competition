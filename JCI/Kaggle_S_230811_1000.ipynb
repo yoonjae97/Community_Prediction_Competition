{
 "cells": [
  {
   "cell_type": "code",
   "execution_count": 124,
   "id": "c04d0d77",
   "metadata": {},
   "outputs": [],
   "source": [
    "# 문제정의\n",
    "import numpy as np\n",
    "import pandas as pd\n",
    "import matplotlib.pyplot as plt\n",
    "import seaborn as sns"
   ]
  },
  {
   "cell_type": "code",
   "execution_count": 125,
   "id": "58384dbf",
   "metadata": {},
   "outputs": [],
   "source": [
    "# 경고창 무시\n",
    "import warnings\n",
    "warnings.filterwarnings('ignore')"
   ]
  },
  {
   "cell_type": "code",
   "execution_count": 126,
   "id": "b09f4c45",
   "metadata": {},
   "outputs": [],
   "source": [
    "train = pd.read_csv(\"./data/Train.csv\")\n",
    "test = pd.read_csv(\"./data/test.csv\")\n",
    "submission = pd.read_csv('./data/sampleSubmission.csv')"
   ]
  },
  {
   "cell_type": "code",
   "execution_count": 127,
   "id": "2a7d8603",
   "metadata": {},
   "outputs": [
    {
     "name": "stdout",
     "output_type": "stream",
     "text": [
      "<class 'pandas.core.frame.DataFrame'>\n",
      "RangeIndex: 6999 entries, 0 to 6998\n",
      "Data columns (total 12 columns):\n",
      " #   Column               Non-Null Count  Dtype  \n",
      "---  ------               --------------  -----  \n",
      " 0   ID                   6999 non-null   int64  \n",
      " 1   Warehouse_block      6999 non-null   object \n",
      " 2   Mode_of_Shipment     6999 non-null   object \n",
      " 3   Customer_care_calls  5423 non-null   float64\n",
      " 4   Customer_rating      6999 non-null   int64  \n",
      " 5   Cost_of_the_Product  6999 non-null   int64  \n",
      " 6   Prior_purchases      6049 non-null   float64\n",
      " 7   Product_importance   6999 non-null   object \n",
      " 8   Gender               6999 non-null   object \n",
      " 9   Discount_offered     3468 non-null   float64\n",
      " 10  Weight_in_gms        6999 non-null   object \n",
      " 11  Reached.on.Time_Y.N  6999 non-null   int64  \n",
      "dtypes: float64(3), int64(4), object(5)\n",
      "memory usage: 656.3+ KB\n"
     ]
    }
   ],
   "source": [
    "train.info()"
   ]
  },
  {
   "cell_type": "code",
   "execution_count": 128,
   "id": "9cdab538",
   "metadata": {},
   "outputs": [],
   "source": [
    "trainDf=pd.DataFrame(train)\n",
    "testDf=pd.DataFrame(test)"
   ]
  },
  {
   "cell_type": "code",
   "execution_count": 129,
   "id": "2cde6be1",
   "metadata": {
    "scrolled": true
   },
   "outputs": [],
   "source": [
    "# 데이터 전처리\n",
    "trainDf.drop('ID',axis = 1, inplace = True)\n",
    "testDf.drop('ID',axis = 1, inplace = True)"
   ]
  },
  {
   "cell_type": "code",
   "execution_count": 130,
   "id": "42be0890",
   "metadata": {},
   "outputs": [],
   "source": [
    "trainDf.drop('Gender', axis =1, inplace = True)\n",
    "testDf.drop('Gender', axis =1, inplace = True)"
   ]
  },
  {
   "cell_type": "code",
   "execution_count": 131,
   "id": "51217bd5",
   "metadata": {},
   "outputs": [],
   "source": [
    "# trainDf.corr()"
   ]
  },
  {
   "cell_type": "code",
   "execution_count": 132,
   "id": "37764161",
   "metadata": {},
   "outputs": [
    {
     "data": {
      "text/html": [
       "<div>\n",
       "<style scoped>\n",
       "    .dataframe tbody tr th:only-of-type {\n",
       "        vertical-align: middle;\n",
       "    }\n",
       "\n",
       "    .dataframe tbody tr th {\n",
       "        vertical-align: top;\n",
       "    }\n",
       "\n",
       "    .dataframe thead th {\n",
       "        text-align: right;\n",
       "    }\n",
       "</style>\n",
       "<table border=\"1\" class=\"dataframe\">\n",
       "  <thead>\n",
       "    <tr style=\"text-align: right;\">\n",
       "      <th></th>\n",
       "      <th>Customer_care_calls</th>\n",
       "      <th>Customer_rating</th>\n",
       "      <th>Cost_of_the_Product</th>\n",
       "      <th>Prior_purchases</th>\n",
       "      <th>Discount_offered</th>\n",
       "      <th>Reached.on.Time_Y.N</th>\n",
       "    </tr>\n",
       "  </thead>\n",
       "  <tbody>\n",
       "    <tr>\n",
       "      <th>count</th>\n",
       "      <td>5423.000000</td>\n",
       "      <td>6999.000000</td>\n",
       "      <td>6999.000000</td>\n",
       "      <td>6049.000000</td>\n",
       "      <td>3468.000000</td>\n",
       "      <td>6999.000000</td>\n",
       "    </tr>\n",
       "    <tr>\n",
       "      <th>mean</th>\n",
       "      <td>4.054582</td>\n",
       "      <td>3.023718</td>\n",
       "      <td>214.249178</td>\n",
       "      <td>3.576294</td>\n",
       "      <td>13.269031</td>\n",
       "      <td>0.594656</td>\n",
       "    </tr>\n",
       "    <tr>\n",
       "      <th>std</th>\n",
       "      <td>1.131019</td>\n",
       "      <td>2.149861</td>\n",
       "      <td>208.294273</td>\n",
       "      <td>1.530933</td>\n",
       "      <td>16.070188</td>\n",
       "      <td>0.490993</td>\n",
       "    </tr>\n",
       "    <tr>\n",
       "      <th>min</th>\n",
       "      <td>2.000000</td>\n",
       "      <td>1.000000</td>\n",
       "      <td>96.000000</td>\n",
       "      <td>2.000000</td>\n",
       "      <td>1.000000</td>\n",
       "      <td>0.000000</td>\n",
       "    </tr>\n",
       "    <tr>\n",
       "      <th>25%</th>\n",
       "      <td>3.000000</td>\n",
       "      <td>2.000000</td>\n",
       "      <td>169.000000</td>\n",
       "      <td>3.000000</td>\n",
       "      <td>4.000000</td>\n",
       "      <td>0.000000</td>\n",
       "    </tr>\n",
       "    <tr>\n",
       "      <th>50%</th>\n",
       "      <td>4.000000</td>\n",
       "      <td>3.000000</td>\n",
       "      <td>214.000000</td>\n",
       "      <td>3.000000</td>\n",
       "      <td>7.000000</td>\n",
       "      <td>1.000000</td>\n",
       "    </tr>\n",
       "    <tr>\n",
       "      <th>75%</th>\n",
       "      <td>5.000000</td>\n",
       "      <td>4.000000</td>\n",
       "      <td>251.000000</td>\n",
       "      <td>4.000000</td>\n",
       "      <td>10.000000</td>\n",
       "      <td>1.000000</td>\n",
       "    </tr>\n",
       "    <tr>\n",
       "      <th>max</th>\n",
       "      <td>7.000000</td>\n",
       "      <td>99.000000</td>\n",
       "      <td>9999.000000</td>\n",
       "      <td>10.000000</td>\n",
       "      <td>65.000000</td>\n",
       "      <td>1.000000</td>\n",
       "    </tr>\n",
       "  </tbody>\n",
       "</table>\n",
       "</div>"
      ],
      "text/plain": [
       "       Customer_care_calls  Customer_rating  Cost_of_the_Product   \n",
       "count          5423.000000      6999.000000          6999.000000  \\\n",
       "mean              4.054582         3.023718           214.249178   \n",
       "std               1.131019         2.149861           208.294273   \n",
       "min               2.000000         1.000000            96.000000   \n",
       "25%               3.000000         2.000000           169.000000   \n",
       "50%               4.000000         3.000000           214.000000   \n",
       "75%               5.000000         4.000000           251.000000   \n",
       "max               7.000000        99.000000          9999.000000   \n",
       "\n",
       "       Prior_purchases  Discount_offered  Reached.on.Time_Y.N  \n",
       "count      6049.000000       3468.000000          6999.000000  \n",
       "mean          3.576294         13.269031             0.594656  \n",
       "std           1.530933         16.070188             0.490993  \n",
       "min           2.000000          1.000000             0.000000  \n",
       "25%           3.000000          4.000000             0.000000  \n",
       "50%           3.000000          7.000000             1.000000  \n",
       "75%           4.000000         10.000000             1.000000  \n",
       "max          10.000000         65.000000             1.000000  "
      ]
     },
     "execution_count": 132,
     "metadata": {},
     "output_type": "execute_result"
    }
   ],
   "source": [
    "trainDf.describe()"
   ]
  },
  {
   "cell_type": "code",
   "execution_count": 133,
   "id": "3e21172b",
   "metadata": {},
   "outputs": [
    {
     "data": {
      "text/plain": [
       "3.0"
      ]
     },
     "execution_count": 133,
     "metadata": {},
     "output_type": "execute_result"
    }
   ],
   "source": [
    "trainDf['Prior_purchases'].median()"
   ]
  },
  {
   "cell_type": "code",
   "execution_count": 134,
   "id": "7c29c37e",
   "metadata": {},
   "outputs": [
    {
     "data": {
      "text/plain": [
       "4.0"
      ]
     },
     "execution_count": 134,
     "metadata": {},
     "output_type": "execute_result"
    }
   ],
   "source": [
    "trainDf['Customer_care_calls'].median()"
   ]
  },
  {
   "cell_type": "code",
   "execution_count": 135,
   "id": "735ffc77",
   "metadata": {},
   "outputs": [
    {
     "data": {
      "text/plain": [
       "Product_importance\n",
       "low        3344\n",
       "medium     2982\n",
       "high        573\n",
       "?            97\n",
       "mediumm       1\n",
       "loww          1\n",
       "highh         1\n",
       "Name: count, dtype: int64"
      ]
     },
     "execution_count": 135,
     "metadata": {},
     "output_type": "execute_result"
    }
   ],
   "source": [
    "# Mode_of_Shipment\n",
    "trainDf['Mode_of_Shipment'] = trainDf['Mode_of_Shipment'].replace(' Ship','Ship') # 공백 제거\n",
    "trainDf['Mode_of_Shipment'] = trainDf['Mode_of_Shipment'].replace(' Road','Road') # 공백 제거\n",
    "trainDf['Mode_of_Shipment'] = trainDf['Mode_of_Shipment'].replace(' Flight','Flight') # 공백 제거\n",
    "trainDf['Mode_of_Shipment'] = trainDf['Mode_of_Shipment'].replace(' Shipzk','Ship') # 오타\n",
    "trainDf['Mode_of_Shipment'] = trainDf['Mode_of_Shipment'].replace(' Roadzk','Road') # 오타 \n",
    "trainDf['Mode_of_Shipment'] = trainDf['Mode_of_Shipment'].replace(' Flightzk','Flight') # 오타\n",
    "trainDf['Mode_of_Shipment'] = trainDf['Mode_of_Shipment'].replace('?','Ship') # 비율을 고려해 결측치 채우기\n",
    "trainDf['Mode_of_Shipment'].value_counts()\n",
    "\n",
    "testDf['Mode_of_Shipment'].unique()\n",
    "testDf['Mode_of_Shipment'] = testDf['Mode_of_Shipment'].replace(' Ship','Ship') # 공백 제거\n",
    "testDf['Mode_of_Shipment'] = testDf['Mode_of_Shipment'].replace(' Road','Road') # 공백 제거\n",
    "testDf['Mode_of_Shipment'] = testDf['Mode_of_Shipment'].replace(' Flight','Flight') # 공백 제거\n",
    "testDf['Mode_of_Shipment'] = testDf['Mode_of_Shipment'].replace(' Shipzk','Ship') # 오타\n",
    "testDf['Mode_of_Shipment'] = testDf['Mode_of_Shipment'].replace(' Roadzk','Road') # 오타 \n",
    "testDf['Mode_of_Shipment'] = testDf['Mode_of_Shipment'].replace(' Flightzk','Flight') # 오타\n",
    "testDf['Mode_of_Shipment'] = testDf['Mode_of_Shipment'].replace('?','Ship') # 비율을 고려해 결측치 채우기\n",
    "testDf['Mode_of_Shipment'].value_counts()\n",
    "trainDf['Product_importance'].value_counts()"
   ]
  },
  {
   "cell_type": "code",
   "execution_count": null,
   "id": "d2e3d9e1",
   "metadata": {},
   "outputs": [],
   "source": []
  },
  {
   "cell_type": "code",
   "execution_count": 136,
   "id": "0ec0642e",
   "metadata": {},
   "outputs": [
    {
     "data": {
      "text/plain": [
       "Mode_of_Shipment\n",
       "Ship      4883\n",
       "Road      1076\n",
       "Flight    1040\n",
       "Name: count, dtype: int64"
      ]
     },
     "execution_count": 136,
     "metadata": {},
     "output_type": "execute_result"
    }
   ],
   "source": [
    "# 결측치가 너무 많으니까 그냥 드랍\n",
    "trainDf.drop('Discount_offered',axis=1, inplace = True)\n",
    "testDf.drop('Discount_offered',axis=1, inplace = True)\n",
    "trainDf.columns\n",
    "trainDf['Warehouse_block '].unique()\n",
    "trainDf['Mode_of_Shipment'].unique()\n",
    "trainDf['Product_importance'].unique()\n",
    "trainDf['Weight_in_gms'][trainDf['Weight_in_gms']=='?']\n",
    "trainDf['Mode_of_Shipment'].value_counts()"
   ]
  },
  {
   "cell_type": "code",
   "execution_count": 137,
   "id": "c2aa1308",
   "metadata": {
    "scrolled": true
   },
   "outputs": [
    {
     "data": {
      "text/plain": [
       "47      ?\n",
       "65      ?\n",
       "67      ?\n",
       "82      ?\n",
       "90      ?\n",
       "       ..\n",
       "6889    ?\n",
       "6914    ?\n",
       "6945    ?\n",
       "6972    ?\n",
       "6975    ?\n",
       "Name: Weight_in_gms, Length: 446, dtype: object"
      ]
     },
     "execution_count": 137,
     "metadata": {},
     "output_type": "execute_result"
    }
   ],
   "source": [
    "# 비율을 고려해 결측치 채우기\n",
    "testDf['Product_importance'].value_counts()\n",
    "\n",
    "# Weight_in_gms\n",
    "trainDf['Weight_in_gms'].unique()\n",
    "trainDf['Weight_in_gms'].value_counts()\n",
    "trainDf['Weight_in_gms'][train['Weight_in_gms']=='?']"
   ]
  },
  {
   "cell_type": "code",
   "execution_count": 138,
   "id": "a45a7371",
   "metadata": {
    "scrolled": true
   },
   "outputs": [
    {
     "data": {
      "text/plain": [
       "count     6999\n",
       "unique    3332\n",
       "top          ?\n",
       "freq       446\n",
       "Name: Weight_in_gms, dtype: object"
      ]
     },
     "execution_count": 138,
     "metadata": {},
     "output_type": "execute_result"
    }
   ],
   "source": [
    "# 0인 값을 제외한 기술통계\n",
    "trainDf['Weight_in_gms'][trainDf['Weight_in_gms']!=0].describe()"
   ]
  },
  {
   "cell_type": "code",
   "execution_count": 139,
   "id": "84c3a1e9",
   "metadata": {
    "scrolled": true
   },
   "outputs": [
    {
     "data": {
      "text/plain": [
       "Series([], Name: Weight_in_gms, dtype: object)"
      ]
     },
     "execution_count": 139,
     "metadata": {},
     "output_type": "execute_result"
    }
   ],
   "source": [
    "# '?'를 숫자로 바꿀 수 없으니 일단 0으로 치환\n",
    "trainDf['Weight_in_gms'] = trainDf['Weight_in_gms'].replace('?',0)\n",
    "testDf['Weight_in_gms'] = testDf['Weight_in_gms'].replace('?',0)\n",
    "trainDf['Weight_in_gms'][trainDf['Weight_in_gms']=='?']"
   ]
  },
  {
   "cell_type": "code",
   "execution_count": 140,
   "id": "d5f87ace",
   "metadata": {},
   "outputs": [
    {
     "data": {
      "text/html": [
       "<div>\n",
       "<style scoped>\n",
       "    .dataframe tbody tr th:only-of-type {\n",
       "        vertical-align: middle;\n",
       "    }\n",
       "\n",
       "    .dataframe tbody tr th {\n",
       "        vertical-align: top;\n",
       "    }\n",
       "\n",
       "    .dataframe thead th {\n",
       "        text-align: right;\n",
       "    }\n",
       "</style>\n",
       "<table border=\"1\" class=\"dataframe\">\n",
       "  <thead>\n",
       "    <tr style=\"text-align: right;\">\n",
       "      <th></th>\n",
       "      <th>Customer_care_calls</th>\n",
       "      <th>Customer_rating</th>\n",
       "      <th>Cost_of_the_Product</th>\n",
       "      <th>Prior_purchases</th>\n",
       "      <th>Weight_in_gms</th>\n",
       "      <th>Reached.on.Time_Y.N</th>\n",
       "    </tr>\n",
       "  </thead>\n",
       "  <tbody>\n",
       "    <tr>\n",
       "      <th>count</th>\n",
       "      <td>5423.000000</td>\n",
       "      <td>6999.000000</td>\n",
       "      <td>6999.000000</td>\n",
       "      <td>6049.000000</td>\n",
       "      <td>6999.000000</td>\n",
       "      <td>6999.000000</td>\n",
       "    </tr>\n",
       "    <tr>\n",
       "      <th>mean</th>\n",
       "      <td>4.054582</td>\n",
       "      <td>3.023718</td>\n",
       "      <td>214.249178</td>\n",
       "      <td>3.576294</td>\n",
       "      <td>3423.769967</td>\n",
       "      <td>0.594656</td>\n",
       "    </tr>\n",
       "    <tr>\n",
       "      <th>std</th>\n",
       "      <td>1.131019</td>\n",
       "      <td>2.149861</td>\n",
       "      <td>208.294273</td>\n",
       "      <td>1.530933</td>\n",
       "      <td>1818.799917</td>\n",
       "      <td>0.490993</td>\n",
       "    </tr>\n",
       "    <tr>\n",
       "      <th>min</th>\n",
       "      <td>2.000000</td>\n",
       "      <td>1.000000</td>\n",
       "      <td>96.000000</td>\n",
       "      <td>2.000000</td>\n",
       "      <td>0.000000</td>\n",
       "      <td>0.000000</td>\n",
       "    </tr>\n",
       "    <tr>\n",
       "      <th>25%</th>\n",
       "      <td>3.000000</td>\n",
       "      <td>2.000000</td>\n",
       "      <td>169.000000</td>\n",
       "      <td>3.000000</td>\n",
       "      <td>1674.000000</td>\n",
       "      <td>0.000000</td>\n",
       "    </tr>\n",
       "    <tr>\n",
       "      <th>50%</th>\n",
       "      <td>4.000000</td>\n",
       "      <td>3.000000</td>\n",
       "      <td>214.000000</td>\n",
       "      <td>3.000000</td>\n",
       "      <td>4064.000000</td>\n",
       "      <td>1.000000</td>\n",
       "    </tr>\n",
       "    <tr>\n",
       "      <th>75%</th>\n",
       "      <td>5.000000</td>\n",
       "      <td>4.000000</td>\n",
       "      <td>251.000000</td>\n",
       "      <td>4.000000</td>\n",
       "      <td>5005.000000</td>\n",
       "      <td>1.000000</td>\n",
       "    </tr>\n",
       "    <tr>\n",
       "      <th>max</th>\n",
       "      <td>7.000000</td>\n",
       "      <td>99.000000</td>\n",
       "      <td>9999.000000</td>\n",
       "      <td>10.000000</td>\n",
       "      <td>7846.000000</td>\n",
       "      <td>1.000000</td>\n",
       "    </tr>\n",
       "  </tbody>\n",
       "</table>\n",
       "</div>"
      ],
      "text/plain": [
       "       Customer_care_calls  Customer_rating  Cost_of_the_Product   \n",
       "count          5423.000000      6999.000000          6999.000000  \\\n",
       "mean              4.054582         3.023718           214.249178   \n",
       "std               1.131019         2.149861           208.294273   \n",
       "min               2.000000         1.000000            96.000000   \n",
       "25%               3.000000         2.000000           169.000000   \n",
       "50%               4.000000         3.000000           214.000000   \n",
       "75%               5.000000         4.000000           251.000000   \n",
       "max               7.000000        99.000000          9999.000000   \n",
       "\n",
       "       Prior_purchases  Weight_in_gms  Reached.on.Time_Y.N  \n",
       "count      6049.000000    6999.000000          6999.000000  \n",
       "mean          3.576294    3423.769967             0.594656  \n",
       "std           1.530933    1818.799917             0.490993  \n",
       "min           2.000000       0.000000             0.000000  \n",
       "25%           3.000000    1674.000000             0.000000  \n",
       "50%           3.000000    4064.000000             1.000000  \n",
       "75%           4.000000    5005.000000             1.000000  \n",
       "max          10.000000    7846.000000             1.000000  "
      ]
     },
     "execution_count": 140,
     "metadata": {},
     "output_type": "execute_result"
    }
   ],
   "source": [
    "# 숫자로 바꾼다\n",
    "trainDf['Weight_in_gms'] = pd.to_numeric(trainDf['Weight_in_gms'])\n",
    "testDf['Weight_in_gms'] = pd.to_numeric(testDf['Weight_in_gms'])\n",
    "trainDf.describe()"
   ]
  },
  {
   "cell_type": "code",
   "execution_count": 141,
   "id": "1fede7ff",
   "metadata": {},
   "outputs": [],
   "source": [
    "#prior_purchases\n",
    "trainDf['Prior_purchases'].fillna(3.5, inplace = True)\n",
    "testDf['Prior_purchases'].fillna(3.5, inplace = True)"
   ]
  },
  {
   "cell_type": "code",
   "execution_count": 142,
   "id": "3c45b13d",
   "metadata": {},
   "outputs": [],
   "source": [
    "# # Discount_offered는 표준편차가 높고 극단적인 값(65)이 있기 때문에 중앙값을 사용한다\n",
    "# trainDf['Discount_offered'].fillna(7, inplace = True)\n",
    "# testDf['Discount_offered'].fillna(7, inplace = True)\n",
    "\n",
    "#아예 없애버림"
   ]
  },
  {
   "cell_type": "code",
   "execution_count": 143,
   "id": "f08222ef",
   "metadata": {},
   "outputs": [
    {
     "data": {
      "text/plain": [
       "2.9962841217664713"
      ]
     },
     "execution_count": 143,
     "metadata": {},
     "output_type": "execute_result"
    }
   ],
   "source": [
    "#customer rating!\n",
    "\n",
    "trainDf['Customer_rating'][trainDf['Customer_rating']!=99].mean()\n",
    "#99 빼도 결국 평균은 3"
   ]
  },
  {
   "cell_type": "code",
   "execution_count": 144,
   "id": "e606d7dd",
   "metadata": {},
   "outputs": [],
   "source": [
    "#여기서부턴 변동 가능성..!"
   ]
  },
  {
   "cell_type": "code",
   "execution_count": 145,
   "id": "cd54f2e4",
   "metadata": {
    "scrolled": false
   },
   "outputs": [
    {
     "data": {
      "text/plain": [
       "Customer_rating\n",
       "1    843\n",
       "4    831\n",
       "3    790\n",
       "5    772\n",
       "2    764\n",
       "Name: count, dtype: int64"
      ]
     },
     "execution_count": 145,
     "metadata": {},
     "output_type": "execute_result"
    }
   ],
   "source": [
    "# 0으로 바꿨던 값을 0을 제외한 평균값으로 바꿔준다\n",
    "trainDf['Weight_in_gms'] = trainDf['Weight_in_gms'].replace(0,3657)\n",
    "testDf['Weight_in_gms'] = testDf['Weight_in_gms'].replace(0,3657)\n",
    "trainDf['Customer_rating'].value_counts()\n",
    "trainDf['Customer_rating'] = trainDf['Customer_rating'].replace(99,3)\n",
    "trainDf['Customer_rating'].value_counts()\n",
    "testDf['Customer_rating'] = testDf['Customer_rating'].replace(99,3) \n",
    "testDf['Customer_rating'].value_counts()"
   ]
  },
  {
   "cell_type": "code",
   "execution_count": null,
   "id": "1e7f845f",
   "metadata": {},
   "outputs": [],
   "source": []
  },
  {
   "cell_type": "code",
   "execution_count": 146,
   "id": "89cf78d7",
   "metadata": {},
   "outputs": [
    {
     "data": {
      "text/plain": [
       "214.0"
      ]
     },
     "execution_count": 146,
     "metadata": {},
     "output_type": "execute_result"
    }
   ],
   "source": [
    "# 이상치를 제외한 값의 평균\n",
    "\n",
    "trainDf['Cost_of_the_Product'][trainDf['Cost_of_the_Product']!=9999].mean()\n",
    "trainDf['Cost_of_the_Product'][trainDf['Cost_of_the_Product']!=9999].median()\n"
   ]
  },
  {
   "cell_type": "code",
   "execution_count": 147,
   "id": "20c0c574",
   "metadata": {},
   "outputs": [],
   "source": [
    "#엥 평균값이면 200이 아니라 210일텐데...\n",
    "#230810_1024"
   ]
  },
  {
   "cell_type": "code",
   "execution_count": null,
   "id": "dabf72cd",
   "metadata": {},
   "outputs": [],
   "source": []
  },
  {
   "cell_type": "code",
   "execution_count": 148,
   "id": "d94cafee",
   "metadata": {},
   "outputs": [],
   "source": [
    "# 이상치 제거\n",
    "trainDf['Cost_of_the_Product'][trainDf['Cost_of_the_Product']==9999]\n",
    "# 이상치를 제외한 값의 평균\n",
    "trainDf['Cost_of_the_Product'][trainDf['Cost_of_the_Product']!=9999].mean()\n",
    "# 평균값으로 변경\n",
    "trainDf['Cost_of_the_Product'] = trainDf['Cost_of_the_Product'].replace(9999,214)\n",
    "testDf['Cost_of_the_Product'] = testDf['Cost_of_the_Product'].replace(9999,214)"
   ]
  },
  {
   "cell_type": "code",
   "execution_count": 149,
   "id": "45418214",
   "metadata": {},
   "outputs": [],
   "source": [
    "#everyday"
   ]
  },
  {
   "cell_type": "code",
   "execution_count": null,
   "id": "d0f07179",
   "metadata": {},
   "outputs": [],
   "source": []
  },
  {
   "cell_type": "code",
   "execution_count": null,
   "id": "1d3fc260",
   "metadata": {},
   "outputs": [],
   "source": []
  },
  {
   "cell_type": "markdown",
   "id": "e058dee1",
   "metadata": {},
   "source": [
    "## 여기부터!!!"
   ]
  },
  {
   "cell_type": "code",
   "execution_count": null,
   "id": "692bb5ce",
   "metadata": {},
   "outputs": [],
   "source": []
  },
  {
   "cell_type": "markdown",
   "id": "956951e1",
   "metadata": {},
   "source": [
    "### customer_care_calls"
   ]
  },
  {
   "cell_type": "code",
   "execution_count": 150,
   "id": "22a65a38",
   "metadata": {},
   "outputs": [
    {
     "data": {
      "text/html": [
       "<div>\n",
       "<style scoped>\n",
       "    .dataframe tbody tr th:only-of-type {\n",
       "        vertical-align: middle;\n",
       "    }\n",
       "\n",
       "    .dataframe tbody tr th {\n",
       "        vertical-align: top;\n",
       "    }\n",
       "\n",
       "    .dataframe thead th {\n",
       "        text-align: right;\n",
       "    }\n",
       "</style>\n",
       "<table border=\"1\" class=\"dataframe\">\n",
       "  <thead>\n",
       "    <tr style=\"text-align: right;\">\n",
       "      <th></th>\n",
       "      <th></th>\n",
       "      <th>Customer_care_calls</th>\n",
       "    </tr>\n",
       "    <tr>\n",
       "      <th>Customer_rating</th>\n",
       "      <th>Mode_of_Shipment</th>\n",
       "      <th></th>\n",
       "    </tr>\n",
       "  </thead>\n",
       "  <tbody>\n",
       "    <tr>\n",
       "      <th rowspan=\"3\" valign=\"top\">1</th>\n",
       "      <th>Flight</th>\n",
       "      <td>4.0</td>\n",
       "    </tr>\n",
       "    <tr>\n",
       "      <th>Road</th>\n",
       "      <td>3.0</td>\n",
       "    </tr>\n",
       "    <tr>\n",
       "      <th>Ship</th>\n",
       "      <td>3.0</td>\n",
       "    </tr>\n",
       "    <tr>\n",
       "      <th rowspan=\"3\" valign=\"top\">2</th>\n",
       "      <th>Flight</th>\n",
       "      <td>5.0</td>\n",
       "    </tr>\n",
       "    <tr>\n",
       "      <th>Road</th>\n",
       "      <td>4.0</td>\n",
       "    </tr>\n",
       "    <tr>\n",
       "      <th>Ship</th>\n",
       "      <td>4.0</td>\n",
       "    </tr>\n",
       "    <tr>\n",
       "      <th rowspan=\"3\" valign=\"top\">3</th>\n",
       "      <th>Flight</th>\n",
       "      <td>4.0</td>\n",
       "    </tr>\n",
       "    <tr>\n",
       "      <th>Road</th>\n",
       "      <td>4.0</td>\n",
       "    </tr>\n",
       "    <tr>\n",
       "      <th>Ship</th>\n",
       "      <td>4.0</td>\n",
       "    </tr>\n",
       "    <tr>\n",
       "      <th rowspan=\"3\" valign=\"top\">4</th>\n",
       "      <th>Flight</th>\n",
       "      <td>4.0</td>\n",
       "    </tr>\n",
       "    <tr>\n",
       "      <th>Road</th>\n",
       "      <td>4.0</td>\n",
       "    </tr>\n",
       "    <tr>\n",
       "      <th>Ship</th>\n",
       "      <td>4.0</td>\n",
       "    </tr>\n",
       "    <tr>\n",
       "      <th rowspan=\"3\" valign=\"top\">5</th>\n",
       "      <th>Flight</th>\n",
       "      <td>3.0</td>\n",
       "    </tr>\n",
       "    <tr>\n",
       "      <th>Road</th>\n",
       "      <td>4.0</td>\n",
       "    </tr>\n",
       "    <tr>\n",
       "      <th>Ship</th>\n",
       "      <td>4.0</td>\n",
       "    </tr>\n",
       "  </tbody>\n",
       "</table>\n",
       "</div>"
      ],
      "text/plain": [
       "                                  Customer_care_calls\n",
       "Customer_rating Mode_of_Shipment                     \n",
       "1               Flight                            4.0\n",
       "                Road                              3.0\n",
       "                Ship                              3.0\n",
       "2               Flight                            5.0\n",
       "                Road                              4.0\n",
       "                Ship                              4.0\n",
       "3               Flight                            4.0\n",
       "                Road                              4.0\n",
       "                Ship                              4.0\n",
       "4               Flight                            4.0\n",
       "                Road                              4.0\n",
       "                Ship                              4.0\n",
       "5               Flight                            3.0\n",
       "                Road                              4.0\n",
       "                Ship                              4.0"
      ]
     },
     "execution_count": 150,
     "metadata": {},
     "output_type": "execute_result"
    }
   ],
   "source": [
    "pt1 = trainDf[['Customer_care_calls', 'Customer_rating', 'Mode_of_Shipment']].groupby(['Customer_rating', 'Mode_of_Shipment']).agg(lambda x: x.mode().iloc[0])\n",
    "pt1"
   ]
  },
  {
   "cell_type": "code",
   "execution_count": 151,
   "id": "af55caf7",
   "metadata": {},
   "outputs": [],
   "source": [
    "def fill_calls(row) :\n",
    "    if np.isnan(row['Customer_care_calls']):\n",
    "        return pt1.loc[(row['Customer_rating'], row['Mode_of_Shipment'])]\n",
    "    else:\n",
    "        return row['Customer_care_calls']"
   ]
  },
  {
   "cell_type": "code",
   "execution_count": 152,
   "id": "0d453922",
   "metadata": {},
   "outputs": [
    {
     "data": {
      "text/plain": [
       "Customer_care_calls    4.0\n",
       "Name: (2, Road), dtype: float64"
      ]
     },
     "execution_count": 152,
     "metadata": {},
     "output_type": "execute_result"
    }
   ],
   "source": [
    "pt1.loc[(2, 'Road')]"
   ]
  },
  {
   "cell_type": "code",
   "execution_count": 153,
   "id": "dda5e90f",
   "metadata": {},
   "outputs": [],
   "source": [
    "trainDf['Customer_care_calls'] = trainDf.apply(fill_calls, axis = 1).astype('int64')"
   ]
  },
  {
   "cell_type": "code",
   "execution_count": 154,
   "id": "945c70ef",
   "metadata": {},
   "outputs": [
    {
     "data": {
      "text/plain": [
       "Customer_care_calls\n",
       "4    2953\n",
       "3    1958\n",
       "5    1188\n",
       "6     496\n",
       "2     287\n",
       "7     117\n",
       "Name: count, dtype: int64"
      ]
     },
     "execution_count": 154,
     "metadata": {},
     "output_type": "execute_result"
    }
   ],
   "source": [
    "trainDf['Customer_care_calls'].value_counts()"
   ]
  },
  {
   "cell_type": "code",
   "execution_count": 155,
   "id": "50268ac5",
   "metadata": {},
   "outputs": [],
   "source": [
    "#test도 적용"
   ]
  },
  {
   "cell_type": "code",
   "execution_count": 156,
   "id": "4ef2cd6b",
   "metadata": {},
   "outputs": [],
   "source": [
    "testDf['Customer_care_calls'] = testDf.apply(fill_calls, axis = 1).astype('int64')"
   ]
  },
  {
   "cell_type": "markdown",
   "id": "a86435f6",
   "metadata": {},
   "source": [
    "### product_importance"
   ]
  },
  {
   "cell_type": "markdown",
   "id": "34d7cba4",
   "metadata": {},
   "source": [
    "- \n",
    "- "
   ]
  },
  {
   "cell_type": "code",
   "execution_count": 157,
   "id": "7d4a93b9",
   "metadata": {},
   "outputs": [],
   "source": [
    "# Product_importance\n",
    "trainDf['Product_importance'] = trainDf['Product_importance'].replace('loww','low') # 오타\n",
    "trainDf['Product_importance'] = trainDf['Product_importance'].replace('highh','high') # 오타 \n",
    "trainDf['Product_importance'] = trainDf['Product_importance'].replace('mediumm','medium') # 오타\n",
    "testDf['Product_importance'] = testDf['Product_importance'].replace('loww','low') # 오타\n",
    "testDf['Product_importance'] = testDf['Product_importance'].replace('highh','high') # 오타 \n",
    "testDf['Product_importance'] = testDf['Product_importance'].replace('mediumm','medium') # 오타"
   ]
  },
  {
   "cell_type": "code",
   "execution_count": 158,
   "id": "8d7583d9",
   "metadata": {
    "scrolled": false
   },
   "outputs": [
    {
     "name": "stdout",
     "output_type": "stream",
     "text": [
      "<class 'pandas.core.frame.DataFrame'>\n",
      "RangeIndex: 6999 entries, 0 to 6998\n",
      "Data columns (total 9 columns):\n",
      " #   Column               Non-Null Count  Dtype  \n",
      "---  ------               --------------  -----  \n",
      " 0   Warehouse_block      6999 non-null   object \n",
      " 1   Mode_of_Shipment     6999 non-null   object \n",
      " 2   Customer_care_calls  6999 non-null   int64  \n",
      " 3   Customer_rating      6999 non-null   int64  \n",
      " 4   Cost_of_the_Product  6999 non-null   int64  \n",
      " 5   Prior_purchases      6999 non-null   float64\n",
      " 6   Product_importance   6999 non-null   object \n",
      " 7   Weight_in_gms        6999 non-null   int64  \n",
      " 8   Reached.on.Time_Y.N  6999 non-null   int64  \n",
      "dtypes: float64(1), int64(5), object(3)\n",
      "memory usage: 492.2+ KB\n"
     ]
    }
   ],
   "source": [
    "trainDf.info()"
   ]
  },
  {
   "cell_type": "code",
   "execution_count": 159,
   "id": "0623a38e",
   "metadata": {},
   "outputs": [
    {
     "data": {
      "text/plain": [
       "Product_importance\n",
       "low       3345\n",
       "medium    2983\n",
       "high       574\n",
       "?           97\n",
       "Name: count, dtype: int64"
      ]
     },
     "execution_count": 159,
     "metadata": {},
     "output_type": "execute_result"
    }
   ],
   "source": [
    "trainDf['Product_importance'].value_counts()"
   ]
  },
  {
   "cell_type": "code",
   "execution_count": 160,
   "id": "2ed00122",
   "metadata": {},
   "outputs": [],
   "source": [
    "# #Deck 컬럼 시각화 진행\n",
    "# sns.countplot(data=trainDf,\n",
    "#              x='Weight_in_gms',\n",
    "#              hue='Product_importance',\n",
    "#              )\n",
    "# #prior_purchases 좀 재밌네"
   ]
  },
  {
   "cell_type": "code",
   "execution_count": 161,
   "id": "540a9f54",
   "metadata": {},
   "outputs": [
    {
     "data": {
      "text/plain": [
       "<Axes: xlabel='Prior_purchases', ylabel='count'>"
      ]
     },
     "execution_count": 161,
     "metadata": {},
     "output_type": "execute_result"
    },
    {
     "data": {
      "image/png": "[encoded data removed]",
      "text/plain": [
       "<Figure size 640x480 with 1 Axes>"
      ]
     },
     "metadata": {},
     "output_type": "display_data"
    }
   ],
   "source": [
    "#Deck 컬럼 시각화 진행\n",
    "sns.countplot(data=trainDf,\n",
    "             x='Prior_purchases',\n",
    "             hue='Product_importance',\n",
    "             )\n",
    "#prior_purchases 좀 재밌네"
   ]
  },
  {
   "cell_type": "code",
   "execution_count": 162,
   "id": "d66fcf7f",
   "metadata": {
    "scrolled": true
   },
   "outputs": [
    {
     "data": {
      "text/plain": [
       "<Axes: xlabel='Cost_of_the_Product', ylabel='count'>"
      ]
     },
     "execution_count": 162,
     "metadata": {},
     "output_type": "execute_result"
    },
    {
     "data": {
      "image/png": "[encoded data removed]",
      "text/plain": [
       "<Figure size 640x480 with 1 Axes>"
      ]
     },
     "metadata": {},
     "output_type": "display_data"
    }
   ],
   "source": [
    "#Deck 컬럼 시각화 진행\n",
    "sns.countplot(data=trainDf,\n",
    "             x='Cost_of_the_Product',\n",
    "             hue='Product_importance',\n",
    "             )"
   ]
  },
  {
   "cell_type": "code",
   "execution_count": 163,
   "id": "7d1709d0",
   "metadata": {},
   "outputs": [
    {
     "data": {
      "text/plain": [
       "<Axes: xlabel='Customer_rating', ylabel='count'>"
      ]
     },
     "execution_count": 163,
     "metadata": {},
     "output_type": "execute_result"
    },
    {
     "data": {
      "image/png": "[encoded data removed]",
      "text/plain": [
       "<Figure size 640x480 with 1 Axes>"
      ]
     },
     "metadata": {},
     "output_type": "display_data"
    }
   ],
   "source": [
    "#Deck 컬럼 시각화 진행\n",
    "sns.countplot(data=trainDf,\n",
    "             x='Customer_rating',\n",
    "             hue='Product_importance',\n",
    "             )\n",
    "#아무 의미 없ㅇ므"
   ]
  },
  {
   "cell_type": "code",
   "execution_count": 164,
   "id": "6cb8f6dd",
   "metadata": {},
   "outputs": [
    {
     "data": {
      "text/plain": [
       "<Axes: xlabel='Customer_care_calls', ylabel='count'>"
      ]
     },
     "execution_count": 164,
     "metadata": {},
     "output_type": "execute_result"
    },
    {
     "data": {
      "image/png": "[encoded data removed]",
      "text/plain": [
       "<Figure size 640x480 with 1 Axes>"
      ]
     },
     "metadata": {},
     "output_type": "display_data"
    }
   ],
   "source": [
    "#Deck 컬럼 시각화 진행\n",
    "sns.countplot(data=trainDf,\n",
    "             x='Customer_care_calls',\n",
    "             hue='Product_importance',\n",
    "             )"
   ]
  },
  {
   "cell_type": "code",
   "execution_count": 165,
   "id": "090a7730",
   "metadata": {},
   "outputs": [
    {
     "data": {
      "text/plain": [
       "<Axes: xlabel='Mode_of_Shipment', ylabel='count'>"
      ]
     },
     "execution_count": 165,
     "metadata": {},
     "output_type": "execute_result"
    },
    {
     "data": {
      "image/png": "[encoded data removed]",
      "text/plain": [
       "<Figure size 640x480 with 1 Axes>"
      ]
     },
     "metadata": {},
     "output_type": "display_data"
    }
   ],
   "source": [
    "#Deck 컬럼 시각화 진행\n",
    "sns.countplot(data=trainDf,\n",
    "             x='Mode_of_Shipment',\n",
    "             hue='Product_importance',\n",
    "             )"
   ]
  },
  {
   "cell_type": "code",
   "execution_count": 166,
   "id": "3b198d6c",
   "metadata": {},
   "outputs": [
    {
     "data": {
      "text/plain": [
       "<Axes: xlabel='Warehouse_block ', ylabel='count'>"
      ]
     },
     "execution_count": 166,
     "metadata": {},
     "output_type": "execute_result"
    },
    {
     "data": {
      "image/png": "[encoded data removed]",
      "text/plain": [
       "<Figure size 640x480 with 1 Axes>"
      ]
     },
     "metadata": {},
     "output_type": "display_data"
    }
   ],
   "source": [
    "#Deck 컬럼 시각화 진행\n",
    "sns.countplot(data=trainDf,\n",
    "             x='Warehouse_block ',\n",
    "             hue='Product_importance',\n",
    "             )"
   ]
  },
  {
   "cell_type": "code",
   "execution_count": 167,
   "id": "77d8724c",
   "metadata": {},
   "outputs": [
    {
     "ename": "NameError",
     "evalue": "name 'Mode_of_Shipment' is not defined",
     "output_type": "error",
     "traceback": [
      "\u001b[1;31m---------------------------------------------------------------------------\u001b[0m",
      "\u001b[1;31mNameError\u001b[0m                                 Traceback (most recent call last)",
      "Cell \u001b[1;32mIn[167], line 1\u001b[0m\n\u001b[1;32m----> 1\u001b[0m \u001b[43mMode_of_Shipment\u001b[49m\n",
      "\u001b[1;31mNameError\u001b[0m: name 'Mode_of_Shipment' is not defined"
     ]
    }
   ],
   "source": [
    "Mode_of_Shipment"
   ]
  },
  {
   "cell_type": "code",
   "execution_count": 168,
   "id": "4387110e",
   "metadata": {},
   "outputs": [
    {
     "data": {
      "text/html": [
       "<div>\n",
       "<style scoped>\n",
       "    .dataframe tbody tr th:only-of-type {\n",
       "        vertical-align: middle;\n",
       "    }\n",
       "\n",
       "    .dataframe tbody tr th {\n",
       "        vertical-align: top;\n",
       "    }\n",
       "\n",
       "    .dataframe thead th {\n",
       "        text-align: right;\n",
       "    }\n",
       "</style>\n",
       "<table border=\"1\" class=\"dataframe\">\n",
       "  <thead>\n",
       "    <tr style=\"text-align: right;\">\n",
       "      <th></th>\n",
       "      <th></th>\n",
       "      <th>Product_importance</th>\n",
       "    </tr>\n",
       "    <tr>\n",
       "      <th>Mode_of_Shipment</th>\n",
       "      <th>Prior_purchases</th>\n",
       "      <th></th>\n",
       "    </tr>\n",
       "  </thead>\n",
       "  <tbody>\n",
       "    <tr>\n",
       "      <th rowspan=\"9\" valign=\"top\">Flight</th>\n",
       "      <th>2.0</th>\n",
       "      <td>low</td>\n",
       "    </tr>\n",
       "    <tr>\n",
       "      <th>3.0</th>\n",
       "      <td>medium</td>\n",
       "    </tr>\n",
       "    <tr>\n",
       "      <th>3.5</th>\n",
       "      <td>low</td>\n",
       "    </tr>\n",
       "    <tr>\n",
       "      <th>4.0</th>\n",
       "      <td>low</td>\n",
       "    </tr>\n",
       "    <tr>\n",
       "      <th>5.0</th>\n",
       "      <td>low</td>\n",
       "    </tr>\n",
       "    <tr>\n",
       "      <th>6.0</th>\n",
       "      <td>low</td>\n",
       "    </tr>\n",
       "    <tr>\n",
       "      <th>7.0</th>\n",
       "      <td>medium</td>\n",
       "    </tr>\n",
       "    <tr>\n",
       "      <th>8.0</th>\n",
       "      <td>high</td>\n",
       "    </tr>\n",
       "    <tr>\n",
       "      <th>10.0</th>\n",
       "      <td>low</td>\n",
       "    </tr>\n",
       "    <tr>\n",
       "      <th rowspan=\"9\" valign=\"top\">Road</th>\n",
       "      <th>2.0</th>\n",
       "      <td>low</td>\n",
       "    </tr>\n",
       "    <tr>\n",
       "      <th>3.0</th>\n",
       "      <td>low</td>\n",
       "    </tr>\n",
       "    <tr>\n",
       "      <th>3.5</th>\n",
       "      <td>low</td>\n",
       "    </tr>\n",
       "    <tr>\n",
       "      <th>4.0</th>\n",
       "      <td>medium</td>\n",
       "    </tr>\n",
       "    <tr>\n",
       "      <th>5.0</th>\n",
       "      <td>low</td>\n",
       "    </tr>\n",
       "    <tr>\n",
       "      <th>6.0</th>\n",
       "      <td>low</td>\n",
       "    </tr>\n",
       "    <tr>\n",
       "      <th>7.0</th>\n",
       "      <td>high</td>\n",
       "    </tr>\n",
       "    <tr>\n",
       "      <th>8.0</th>\n",
       "      <td>low</td>\n",
       "    </tr>\n",
       "    <tr>\n",
       "      <th>10.0</th>\n",
       "      <td>medium</td>\n",
       "    </tr>\n",
       "    <tr>\n",
       "      <th rowspan=\"9\" valign=\"top\">Ship</th>\n",
       "      <th>2.0</th>\n",
       "      <td>low</td>\n",
       "    </tr>\n",
       "    <tr>\n",
       "      <th>3.0</th>\n",
       "      <td>low</td>\n",
       "    </tr>\n",
       "    <tr>\n",
       "      <th>3.5</th>\n",
       "      <td>low</td>\n",
       "    </tr>\n",
       "    <tr>\n",
       "      <th>4.0</th>\n",
       "      <td>low</td>\n",
       "    </tr>\n",
       "    <tr>\n",
       "      <th>5.0</th>\n",
       "      <td>low</td>\n",
       "    </tr>\n",
       "    <tr>\n",
       "      <th>6.0</th>\n",
       "      <td>medium</td>\n",
       "    </tr>\n",
       "    <tr>\n",
       "      <th>7.0</th>\n",
       "      <td>medium</td>\n",
       "    </tr>\n",
       "    <tr>\n",
       "      <th>8.0</th>\n",
       "      <td>medium</td>\n",
       "    </tr>\n",
       "    <tr>\n",
       "      <th>10.0</th>\n",
       "      <td>medium</td>\n",
       "    </tr>\n",
       "  </tbody>\n",
       "</table>\n",
       "</div>"
      ],
      "text/plain": [
       "                                 Product_importance\n",
       "Mode_of_Shipment Prior_purchases                   \n",
       "Flight           2.0                            low\n",
       "                 3.0                         medium\n",
       "                 3.5                            low\n",
       "                 4.0                            low\n",
       "                 5.0                            low\n",
       "                 6.0                            low\n",
       "                 7.0                         medium\n",
       "                 8.0                           high\n",
       "                 10.0                           low\n",
       "Road             2.0                            low\n",
       "                 3.0                            low\n",
       "                 3.5                            low\n",
       "                 4.0                         medium\n",
       "                 5.0                            low\n",
       "                 6.0                            low\n",
       "                 7.0                           high\n",
       "                 8.0                            low\n",
       "                 10.0                        medium\n",
       "Ship             2.0                            low\n",
       "                 3.0                            low\n",
       "                 3.5                            low\n",
       "                 4.0                            low\n",
       "                 5.0                            low\n",
       "                 6.0                         medium\n",
       "                 7.0                         medium\n",
       "                 8.0                         medium\n",
       "                 10.0                        medium"
      ]
     },
     "execution_count": 168,
     "metadata": {},
     "output_type": "execute_result"
    }
   ],
   "source": [
    "pt2 = trainDf[['Mode_of_Shipment', 'Prior_purchases', 'Product_importance']].groupby(['Mode_of_Shipment','Prior_purchases']).agg(lambda x: x.mode().iloc[0])\n",
    "pt2\n",
    "# 요게 그나마 제일 영향력 있는 듯"
   ]
  },
  {
   "cell_type": "code",
   "execution_count": 169,
   "id": "28a1e415",
   "metadata": {},
   "outputs": [
    {
     "data": {
      "text/plain": [
       "Product_importance\n",
       "low       3345\n",
       "medium    2983\n",
       "high       574\n",
       "?           97\n",
       "Name: count, dtype: int64"
      ]
     },
     "execution_count": 169,
     "metadata": {},
     "output_type": "execute_result"
    }
   ],
   "source": [
    "trainDf['Product_importance'].value_counts()"
   ]
  },
  {
   "cell_type": "code",
   "execution_count": 170,
   "id": "b1fe8a58",
   "metadata": {},
   "outputs": [],
   "source": [
    "#  print(pt2.loc[('Flight',2.0)])"
   ]
  },
  {
   "cell_type": "code",
   "execution_count": 171,
   "id": "a99b82f1",
   "metadata": {},
   "outputs": [],
   "source": [
    "# def fill_calls_2(row) :\n",
    "#     if np.isnan(row['Product_importance']):\n",
    "#         return pt2.loc[(row['Mode_of_Shipment'], row['Prior_purchases'])]\n",
    "#     else:\n",
    "#         return row['Product_importance']\n",
    "# #     요게 원래것"
   ]
  },
  {
   "cell_type": "code",
   "execution_count": 49,
   "id": "09579582",
   "metadata": {
    "scrolled": true
   },
   "outputs": [
    {
     "name": "stdout",
     "output_type": "stream",
     "text": [
      "Collecting keras\n",
      "  Downloading keras-2.13.1-py3-none-any.whl (1.7 MB)\n",
      "     ---------------------------------------- 1.7/1.7 MB 3.7 MB/s eta 0:00:00\n",
      "Installing collected packages: keras\n",
      "Successfully installed keras-2.13.1\n"
     ]
    }
   ],
   "source": [
    "!pip install keras"
   ]
  },
  {
   "cell_type": "code",
   "execution_count": 51,
   "id": "6c10ede7",
   "metadata": {},
   "outputs": [
    {
     "name": "stdout",
     "output_type": "stream",
     "text": [
      "Collecting tensorflow\n",
      "  Downloading tensorflow-2.13.0-cp310-cp310-win_amd64.whl (1.9 kB)\n",
      "Collecting tensorflow-intel==2.13.0\n",
      "  Downloading tensorflow_intel-2.13.0-cp310-cp310-win_amd64.whl (276.5 MB)\n",
      "     -------------------------------------- 276.5/276.5 MB 3.3 MB/s eta 0:00:00\n",
      "Collecting wrapt>=1.11.0\n",
      "  Downloading wrapt-1.15.0-cp310-cp310-win_amd64.whl (36 kB)\n",
      "Requirement already satisfied: setuptools in c:\\users\\user24\\anaconda3\\lib\\site-packages (from tensorflow-intel==2.13.0->tensorflow) (65.6.3)\n",
      "Collecting absl-py>=1.0.0\n",
      "  Downloading absl_py-1.4.0-py3-none-any.whl (126 kB)\n",
      "     -------------------------------------- 126.5/126.5 kB 1.2 MB/s eta 0:00:00\n",
      "Requirement already satisfied: typing-extensions<4.6.0,>=3.6.6 in c:\\users\\user24\\anaconda3\\lib\\site-packages (from tensorflow-intel==2.13.0->tensorflow) (4.5.0)\n",
      "Collecting protobuf!=4.21.0,!=4.21.1,!=4.21.2,!=4.21.3,!=4.21.4,!=4.21.5,<5.0.0dev,>=3.20.3\n",
      "  Downloading protobuf-4.24.0-cp310-abi3-win_amd64.whl (430 kB)\n",
      "     -------------------------------------- 430.5/430.5 kB 2.4 MB/s eta 0:00:00\n",
      "Requirement already satisfied: six>=1.12.0 in c:\\users\\user24\\anaconda3\\lib\\site-packages (from tensorflow-intel==2.13.0->tensorflow) (1.16.0)\n",
      "Collecting libclang>=13.0.0\n",
      "  Downloading libclang-16.0.6-py2.py3-none-win_amd64.whl (24.4 MB)\n",
      "     ---------------------------------------- 24.4/24.4 MB 6.8 MB/s eta 0:00:00\n",
      "Collecting astunparse>=1.6.0\n",
      "  Downloading astunparse-1.6.3-py2.py3-none-any.whl (12 kB)\n",
      "Collecting flatbuffers>=23.1.21\n",
      "  Downloading flatbuffers-23.5.26-py2.py3-none-any.whl (26 kB)\n",
      "Requirement already satisfied: keras<2.14,>=2.13.1 in c:\\users\\user24\\anaconda3\\lib\\site-packages (from tensorflow-intel==2.13.0->tensorflow) (2.13.1)\n",
      "Collecting termcolor>=1.1.0\n",
      "  Downloading termcolor-2.3.0-py3-none-any.whl (6.9 kB)\n",
      "Collecting gast<=0.4.0,>=0.2.1\n",
      "  Downloading gast-0.4.0-py3-none-any.whl (9.8 kB)\n",
      "Collecting grpcio<2.0,>=1.24.3\n",
      "  Downloading grpcio-1.57.0-cp310-cp310-win_amd64.whl (4.3 MB)\n",
      "     ---------------------------------------- 4.3/4.3 MB 6.5 MB/s eta 0:00:00\n",
      "Collecting tensorboard<2.14,>=2.13\n",
      "  Downloading tensorboard-2.13.0-py3-none-any.whl (5.6 MB)\n",
      "     ---------------------------------------- 5.6/5.6 MB 7.0 MB/s eta 0:00:00\n",
      "Requirement already satisfied: numpy<=1.24.3,>=1.22 in c:\\users\\user24\\anaconda3\\lib\\site-packages (from tensorflow-intel==2.13.0->tensorflow) (1.24.3)\n",
      "Collecting tensorflow-io-gcs-filesystem>=0.23.1\n",
      "  Downloading tensorflow_io_gcs_filesystem-0.31.0-cp310-cp310-win_amd64.whl (1.5 MB)\n",
      "     ---------------------------------------- 1.5/1.5 MB 7.9 MB/s eta 0:00:00\n",
      "Collecting opt-einsum>=2.3.2\n",
      "  Downloading opt_einsum-3.3.0-py3-none-any.whl (65 kB)\n",
      "     ---------------------------------------- 65.5/65.5 kB 3.5 MB/s eta 0:00:00\n",
      "Collecting h5py>=2.9.0\n",
      "  Downloading h5py-3.9.0-cp310-cp310-win_amd64.whl (2.7 MB)\n",
      "     ---------------------------------------- 2.7/2.7 MB 6.3 MB/s eta 0:00:00\n",
      "Collecting google-pasta>=0.1.1\n",
      "  Downloading google_pasta-0.2.0-py3-none-any.whl (57 kB)\n",
      "     ---------------------------------------- 57.5/57.5 kB ? eta 0:00:00\n",
      "Requirement already satisfied: packaging in c:\\users\\user24\\anaconda3\\lib\\site-packages (from tensorflow-intel==2.13.0->tensorflow) (23.1)\n",
      "Collecting tensorflow-estimator<2.14,>=2.13.0\n",
      "  Downloading tensorflow_estimator-2.13.0-py2.py3-none-any.whl (440 kB)\n",
      "     -------------------------------------- 440.8/440.8 kB 9.2 MB/s eta 0:00:00\n",
      "Requirement already satisfied: wheel<1.0,>=0.23.0 in c:\\users\\user24\\anaconda3\\lib\\site-packages (from astunparse>=1.6.0->tensorflow-intel==2.13.0->tensorflow) (0.38.4)\n",
      "Collecting google-auth<3,>=1.6.3\n",
      "  Downloading google_auth-2.22.0-py2.py3-none-any.whl (181 kB)\n",
      "     -------------------------------------- 181.8/181.8 kB 5.4 MB/s eta 0:00:00\n",
      "Collecting tensorboard-data-server<0.8.0,>=0.7.0\n",
      "  Downloading tensorboard_data_server-0.7.1-py3-none-any.whl (2.4 kB)\n",
      "Collecting google-auth-oauthlib<1.1,>=0.5\n",
      "  Downloading google_auth_oauthlib-1.0.0-py2.py3-none-any.whl (18 kB)\n",
      "Collecting werkzeug>=1.0.1\n",
      "  Downloading Werkzeug-2.3.6-py3-none-any.whl (242 kB)\n",
      "     -------------------------------------- 242.5/242.5 kB 7.3 MB/s eta 0:00:00\n",
      "Requirement already satisfied: requests<3,>=2.21.0 in c:\\users\\user24\\anaconda3\\lib\\site-packages (from tensorboard<2.14,>=2.13->tensorflow-intel==2.13.0->tensorflow) (2.29.0)\n",
      "Collecting markdown>=2.6.8\n",
      "  Downloading Markdown-3.4.4-py3-none-any.whl (94 kB)\n",
      "     ---------------------------------------- 94.2/94.2 kB 5.2 MB/s eta 0:00:00\n",
      "Collecting pyasn1-modules>=0.2.1\n",
      "  Downloading pyasn1_modules-0.3.0-py2.py3-none-any.whl (181 kB)\n",
      "     -------------------------------------- 181.3/181.3 kB 5.3 MB/s eta 0:00:00\n",
      "Requirement already satisfied: urllib3<2.0 in c:\\users\\user24\\anaconda3\\lib\\site-packages (from google-auth<3,>=1.6.3->tensorboard<2.14,>=2.13->tensorflow-intel==2.13.0->tensorflow) (1.26.15)\n",
      "Collecting rsa<5,>=3.1.4\n",
      "  Downloading rsa-4.9-py3-none-any.whl (34 kB)\n",
      "Collecting cachetools<6.0,>=2.0.0\n",
      "  Downloading cachetools-5.3.1-py3-none-any.whl (9.3 kB)\n",
      "Collecting requests-oauthlib>=0.7.0\n",
      "  Downloading requests_oauthlib-1.3.1-py2.py3-none-any.whl (23 kB)\n",
      "Requirement already satisfied: charset-normalizer<4,>=2 in c:\\users\\user24\\anaconda3\\lib\\site-packages (from requests<3,>=2.21.0->tensorboard<2.14,>=2.13->tensorflow-intel==2.13.0->tensorflow) (3.1.0)\n",
      "Requirement already satisfied: idna<4,>=2.5 in c:\\users\\user24\\anaconda3\\lib\\site-packages (from requests<3,>=2.21.0->tensorboard<2.14,>=2.13->tensorflow-intel==2.13.0->tensorflow) (3.4)\n",
      "Requirement already satisfied: certifi>=2017.4.17 in c:\\users\\user24\\anaconda3\\lib\\site-packages (from requests<3,>=2.21.0->tensorboard<2.14,>=2.13->tensorflow-intel==2.13.0->tensorflow) (2023.7.22)\n",
      "Requirement already satisfied: MarkupSafe>=2.1.1 in c:\\users\\user24\\anaconda3\\lib\\site-packages (from werkzeug>=1.0.1->tensorboard<2.14,>=2.13->tensorflow-intel==2.13.0->tensorflow) (2.1.2)\n",
      "Collecting pyasn1<0.6.0,>=0.4.6\n",
      "  Downloading pyasn1-0.5.0-py2.py3-none-any.whl (83 kB)\n",
      "     ---------------------------------------- 83.9/83.9 kB ? eta 0:00:00\n",
      "Collecting oauthlib>=3.0.0\n",
      "  Downloading oauthlib-3.2.2-py3-none-any.whl (151 kB)\n",
      "     ---------------------------------------- 151.7/151.7 kB ? eta 0:00:00\n",
      "Installing collected packages: libclang, flatbuffers, wrapt, werkzeug, termcolor, tensorflow-io-gcs-filesystem, tensorflow-estimator, tensorboard-data-server, pyasn1, protobuf, opt-einsum, oauthlib, markdown, h5py, grpcio, google-pasta, gast, cachetools, astunparse, absl-py, rsa, requests-oauthlib, pyasn1-modules, google-auth, google-auth-oauthlib, tensorboard, tensorflow-intel, tensorflow\n",
      "Successfully installed absl-py-1.4.0 astunparse-1.6.3 cachetools-5.3.1 flatbuffers-23.5.26 gast-0.4.0 google-auth-2.22.0 google-auth-oauthlib-1.0.0 google-pasta-0.2.0 grpcio-1.57.0 h5py-3.9.0 libclang-16.0.6 markdown-3.4.4 oauthlib-3.2.2 opt-einsum-3.3.0 protobuf-4.24.0 pyasn1-0.5.0 pyasn1-modules-0.3.0 requests-oauthlib-1.3.1 rsa-4.9 tensorboard-2.13.0 tensorboard-data-server-0.7.1 tensorflow-2.13.0 tensorflow-estimator-2.13.0 tensorflow-intel-2.13.0 tensorflow-io-gcs-filesystem-0.31.0 termcolor-2.3.0 werkzeug-2.3.6 wrapt-1.15.0\n"
     ]
    }
   ],
   "source": [
    "!pip install tensorflow"
   ]
  },
  {
   "cell_type": "code",
   "execution_count": 172,
   "id": "52240bdf",
   "metadata": {},
   "outputs": [],
   "source": [
    "from keras.utils import to_categorical\n"
   ]
  },
  {
   "cell_type": "code",
   "execution_count": null,
   "id": "c1ab94c8",
   "metadata": {},
   "outputs": [],
   "source": []
  },
  {
   "cell_type": "code",
   "execution_count": null,
   "id": "43e0a392",
   "metadata": {},
   "outputs": [],
   "source": []
  },
  {
   "cell_type": "code",
   "execution_count": 109,
   "id": "269065e3",
   "metadata": {},
   "outputs": [],
   "source": [
    "# trainDf['Product_importance'] = pd.Categorical(trainDf['Product_importance'])\n"
   ]
  },
  {
   "cell_type": "code",
   "execution_count": 110,
   "id": "02cc4661",
   "metadata": {},
   "outputs": [],
   "source": [
    "# def fill_calls_2(row):\n",
    "#     if pd.isnull(row['Product_importance']) or row['Product_importance'] == '':\n",
    "#         return pt2.loc[(row['Mode_of_Shipment'], row['Prior_purchases'])]\n",
    "#     else:\n",
    "#         return row['Product_importance']\n",
    "    "
   ]
  },
  {
   "cell_type": "code",
   "execution_count": null,
   "id": "fe2066e1",
   "metadata": {},
   "outputs": [],
   "source": []
  },
  {
   "cell_type": "code",
   "execution_count": 111,
   "id": "62f85c60",
   "metadata": {},
   "outputs": [],
   "source": [
    "# def fill_calls_2(row):\n",
    "#     if pd.isnull(row['Product_importance']) or row['Product_importance'] == '':\n",
    "        \n",
    "#         ap=pt2.loc[(row['Mode_of_Shipment'], row['Prior_purchases'])]\n",
    "#     else:\n",
    "#         return row['Product_importance']\n",
    "    "
   ]
  },
  {
   "cell_type": "code",
   "execution_count": 173,
   "id": "708caaf8",
   "metadata": {},
   "outputs": [],
   "source": [
    "trainDf= trainDf.replace('?', pd.NA)\n"
   ]
  },
  {
   "cell_type": "code",
   "execution_count": null,
   "id": "5c2d46a1",
   "metadata": {},
   "outputs": [],
   "source": []
  },
  {
   "cell_type": "code",
   "execution_count": 180,
   "id": "2c9875e4",
   "metadata": {},
   "outputs": [],
   "source": [
    "def fill_calls_2(row):\n",
    "    if pd.isnull(row['Product_importance']) or row['Product_importance'] == '':\n",
    "        value = pt2.loc[(row['Mode_of_Shipment'], row['Prior_purchases']), 'Product_importance']\n",
    "        return value\n",
    "    else:\n",
    "        return row['Product_importance']"
   ]
  },
  {
   "cell_type": "code",
   "execution_count": null,
   "id": "d9559fef",
   "metadata": {},
   "outputs": [],
   "source": [
    "trainDf"
   ]
  },
  {
   "cell_type": "code",
   "execution_count": 181,
   "id": "fad319d3",
   "metadata": {},
   "outputs": [],
   "source": [
    "trainDf['Product_importance'] = trainDf.apply(fill_calls_2, axis = 1)"
   ]
  },
  {
   "cell_type": "code",
   "execution_count": 182,
   "id": "66620e9f",
   "metadata": {
    "scrolled": false
   },
   "outputs": [
    {
     "data": {
      "text/plain": [
       "Product_importance\n",
       "low       3434\n",
       "medium    2991\n",
       "high       574\n",
       "Name: count, dtype: int64"
      ]
     },
     "execution_count": 182,
     "metadata": {},
     "output_type": "execute_result"
    }
   ],
   "source": [
    "trainDf['Product_importance'].value_counts()\n",
    "#완료"
   ]
  },
  {
   "cell_type": "code",
   "execution_count": 191,
   "id": "c6679968",
   "metadata": {},
   "outputs": [],
   "source": [
    "#test 값에도 적용\n",
    "testDf= trainDf.replace('?', pd.NA)"
   ]
  },
  {
   "cell_type": "code",
   "execution_count": 192,
   "id": "fed56d4c",
   "metadata": {},
   "outputs": [],
   "source": [
    "testDf['Product_importance'] = testDf.apply(fill_calls_2, axis = 1)"
   ]
  },
  {
   "cell_type": "code",
   "execution_count": 193,
   "id": "6bc225ad",
   "metadata": {},
   "outputs": [
    {
     "data": {
      "text/plain": [
       "Product_importance\n",
       "low       3434\n",
       "medium    2991\n",
       "high       574\n",
       "Name: count, dtype: int64"
      ]
     },
     "execution_count": 193,
     "metadata": {},
     "output_type": "execute_result"
    }
   ],
   "source": [
    "testDf['Product_importance'].value_counts()\n"
   ]
  },
  {
   "cell_type": "code",
   "execution_count": 188,
   "id": "e7ba5f2c",
   "metadata": {},
   "outputs": [
    {
     "data": {
      "text/html": [
       "<div>\n",
       "<style scoped>\n",
       "    .dataframe tbody tr th:only-of-type {\n",
       "        vertical-align: middle;\n",
       "    }\n",
       "\n",
       "    .dataframe tbody tr th {\n",
       "        vertical-align: top;\n",
       "    }\n",
       "\n",
       "    .dataframe thead th {\n",
       "        text-align: right;\n",
       "    }\n",
       "</style>\n",
       "<table border=\"1\" class=\"dataframe\">\n",
       "  <thead>\n",
       "    <tr style=\"text-align: right;\">\n",
       "      <th></th>\n",
       "      <th></th>\n",
       "      <th>Product_importance</th>\n",
       "    </tr>\n",
       "    <tr>\n",
       "      <th>Mode_of_Shipment</th>\n",
       "      <th>Prior_purchases</th>\n",
       "      <th></th>\n",
       "    </tr>\n",
       "  </thead>\n",
       "  <tbody>\n",
       "    <tr>\n",
       "      <th rowspan=\"9\" valign=\"top\">Flight</th>\n",
       "      <th>2.0</th>\n",
       "      <td>low</td>\n",
       "    </tr>\n",
       "    <tr>\n",
       "      <th>3.0</th>\n",
       "      <td>medium</td>\n",
       "    </tr>\n",
       "    <tr>\n",
       "      <th>3.5</th>\n",
       "      <td>low</td>\n",
       "    </tr>\n",
       "    <tr>\n",
       "      <th>4.0</th>\n",
       "      <td>low</td>\n",
       "    </tr>\n",
       "    <tr>\n",
       "      <th>5.0</th>\n",
       "      <td>low</td>\n",
       "    </tr>\n",
       "    <tr>\n",
       "      <th>6.0</th>\n",
       "      <td>low</td>\n",
       "    </tr>\n",
       "    <tr>\n",
       "      <th>7.0</th>\n",
       "      <td>medium</td>\n",
       "    </tr>\n",
       "    <tr>\n",
       "      <th>8.0</th>\n",
       "      <td>high</td>\n",
       "    </tr>\n",
       "    <tr>\n",
       "      <th>10.0</th>\n",
       "      <td>low</td>\n",
       "    </tr>\n",
       "    <tr>\n",
       "      <th rowspan=\"9\" valign=\"top\">Road</th>\n",
       "      <th>2.0</th>\n",
       "      <td>low</td>\n",
       "    </tr>\n",
       "    <tr>\n",
       "      <th>3.0</th>\n",
       "      <td>low</td>\n",
       "    </tr>\n",
       "    <tr>\n",
       "      <th>3.5</th>\n",
       "      <td>low</td>\n",
       "    </tr>\n",
       "    <tr>\n",
       "      <th>4.0</th>\n",
       "      <td>medium</td>\n",
       "    </tr>\n",
       "    <tr>\n",
       "      <th>5.0</th>\n",
       "      <td>low</td>\n",
       "    </tr>\n",
       "    <tr>\n",
       "      <th>6.0</th>\n",
       "      <td>low</td>\n",
       "    </tr>\n",
       "    <tr>\n",
       "      <th>7.0</th>\n",
       "      <td>high</td>\n",
       "    </tr>\n",
       "    <tr>\n",
       "      <th>8.0</th>\n",
       "      <td>low</td>\n",
       "    </tr>\n",
       "    <tr>\n",
       "      <th>10.0</th>\n",
       "      <td>medium</td>\n",
       "    </tr>\n",
       "    <tr>\n",
       "      <th rowspan=\"9\" valign=\"top\">Ship</th>\n",
       "      <th>2.0</th>\n",
       "      <td>low</td>\n",
       "    </tr>\n",
       "    <tr>\n",
       "      <th>3.0</th>\n",
       "      <td>low</td>\n",
       "    </tr>\n",
       "    <tr>\n",
       "      <th>3.5</th>\n",
       "      <td>low</td>\n",
       "    </tr>\n",
       "    <tr>\n",
       "      <th>4.0</th>\n",
       "      <td>low</td>\n",
       "    </tr>\n",
       "    <tr>\n",
       "      <th>5.0</th>\n",
       "      <td>low</td>\n",
       "    </tr>\n",
       "    <tr>\n",
       "      <th>6.0</th>\n",
       "      <td>medium</td>\n",
       "    </tr>\n",
       "    <tr>\n",
       "      <th>7.0</th>\n",
       "      <td>medium</td>\n",
       "    </tr>\n",
       "    <tr>\n",
       "      <th>8.0</th>\n",
       "      <td>medium</td>\n",
       "    </tr>\n",
       "    <tr>\n",
       "      <th>10.0</th>\n",
       "      <td>medium</td>\n",
       "    </tr>\n",
       "  </tbody>\n",
       "</table>\n",
       "</div>"
      ],
      "text/plain": [
       "                                 Product_importance\n",
       "Mode_of_Shipment Prior_purchases                   \n",
       "Flight           2.0                            low\n",
       "                 3.0                         medium\n",
       "                 3.5                            low\n",
       "                 4.0                            low\n",
       "                 5.0                            low\n",
       "                 6.0                            low\n",
       "                 7.0                         medium\n",
       "                 8.0                           high\n",
       "                 10.0                           low\n",
       "Road             2.0                            low\n",
       "                 3.0                            low\n",
       "                 3.5                            low\n",
       "                 4.0                         medium\n",
       "                 5.0                            low\n",
       "                 6.0                            low\n",
       "                 7.0                           high\n",
       "                 8.0                            low\n",
       "                 10.0                        medium\n",
       "Ship             2.0                            low\n",
       "                 3.0                            low\n",
       "                 3.5                            low\n",
       "                 4.0                            low\n",
       "                 5.0                            low\n",
       "                 6.0                         medium\n",
       "                 7.0                         medium\n",
       "                 8.0                         medium\n",
       "                 10.0                        medium"
      ]
     },
     "execution_count": 188,
     "metadata": {},
     "output_type": "execute_result"
    }
   ],
   "source": [
    "#다시 확인\n",
    "pt2\n"
   ]
  },
  {
   "cell_type": "code",
   "execution_count": 60,
   "id": "5b3ffb97",
   "metadata": {
    "scrolled": true
   },
   "outputs": [
    {
     "data": {
      "text/plain": [
       "array(['low', 'medium', 'high',\n",
       "       'Product_importance    low\\nName: (Road, 5.0), dtype: object',\n",
       "       'Product_importance    medium\\nName: (Flight, 3.0), dtype: object',\n",
       "       'Product_importance    low\\nName: (Ship, 3.0), dtype: object',\n",
       "       'Product_importance    low\\nName: (Ship, 3.5), dtype: object',\n",
       "       'Product_importance    low\\nName: (Ship, 2.0), dtype: object',\n",
       "       'Product_importance    low\\nName: (Flight, 4.0), dtype: object',\n",
       "       'Product_importance    low\\nName: (Ship, 5.0), dtype: object',\n",
       "       'Product_importance    low\\nName: (Ship, 4.0), dtype: object',\n",
       "       'Product_importance    low\\nName: (Road, 3.0), dtype: object',\n",
       "       'Product_importance    low\\nName: (Flight, 2.0), dtype: object',\n",
       "       'Product_importance    medium\\nName: (Ship, 10.0), dtype: object',\n",
       "       'Product_importance    low\\nName: (Flight, 3.5), dtype: object',\n",
       "       'Product_importance    low\\nName: (Road, 6.0), dtype: object',\n",
       "       'Product_importance    low\\nName: (Flight, 6.0), dtype: object',\n",
       "       'Product_importance    medium\\nName: (Ship, 7.0), dtype: object',\n",
       "       'Product_importance    low\\nName: (Road, 2.0), dtype: object',\n",
       "       'Product_importance    low\\nName: (Flight, 5.0), dtype: object',\n",
       "       'Product_importance    medium\\nName: (Ship, 6.0), dtype: object'],\n",
       "      dtype=object)"
      ]
     },
     "execution_count": 60,
     "metadata": {},
     "output_type": "execute_result"
    }
   ],
   "source": [
    "#시행착오들: 이상하게 나왔었음. \n",
    "trainDf['Product_importance'].unique()"
   ]
  },
  {
   "cell_type": "code",
   "execution_count": null,
   "id": "8a2695e2",
   "metadata": {},
   "outputs": [],
   "source": []
  },
  {
   "cell_type": "code",
   "execution_count": null,
   "id": "627905db",
   "metadata": {},
   "outputs": [],
   "source": [
    "#3656 나온 이유(3423 아닌 잉유) 0인 값은 mean 내는 것에서 제외해서 그럼.\n",
    "#이게 더 정확함. "
   ]
  },
  {
   "cell_type": "code",
   "execution_count": 61,
   "id": "a4ebdae8",
   "metadata": {},
   "outputs": [
    {
     "data": {
      "text/html": [
       "<div>\n",
       "<style scoped>\n",
       "    .dataframe tbody tr th:only-of-type {\n",
       "        vertical-align: middle;\n",
       "    }\n",
       "\n",
       "    .dataframe tbody tr th {\n",
       "        vertical-align: top;\n",
       "    }\n",
       "\n",
       "    .dataframe thead th {\n",
       "        text-align: right;\n",
       "    }\n",
       "</style>\n",
       "<table border=\"1\" class=\"dataframe\">\n",
       "  <thead>\n",
       "    <tr style=\"text-align: right;\">\n",
       "      <th></th>\n",
       "      <th>Customer_care_calls</th>\n",
       "    </tr>\n",
       "    <tr>\n",
       "      <th>Weight_in_gms</th>\n",
       "      <th></th>\n",
       "    </tr>\n",
       "  </thead>\n",
       "  <tbody>\n",
       "    <tr>\n",
       "      <th>1001</th>\n",
       "      <td>4.0</td>\n",
       "    </tr>\n",
       "    <tr>\n",
       "      <th>1002</th>\n",
       "      <td>4.0</td>\n",
       "    </tr>\n",
       "    <tr>\n",
       "      <th>1003</th>\n",
       "      <td>5.5</td>\n",
       "    </tr>\n",
       "    <tr>\n",
       "      <th>1005</th>\n",
       "      <td>4.0</td>\n",
       "    </tr>\n",
       "    <tr>\n",
       "      <th>1006</th>\n",
       "      <td>5.0</td>\n",
       "    </tr>\n",
       "    <tr>\n",
       "      <th>...</th>\n",
       "      <td>...</td>\n",
       "    </tr>\n",
       "    <tr>\n",
       "      <th>6000</th>\n",
       "      <td>3.0</td>\n",
       "    </tr>\n",
       "    <tr>\n",
       "      <th>6064</th>\n",
       "      <td>2.0</td>\n",
       "    </tr>\n",
       "    <tr>\n",
       "      <th>7401</th>\n",
       "      <td>2.0</td>\n",
       "    </tr>\n",
       "    <tr>\n",
       "      <th>7640</th>\n",
       "      <td>2.0</td>\n",
       "    </tr>\n",
       "    <tr>\n",
       "      <th>7846</th>\n",
       "      <td>2.0</td>\n",
       "    </tr>\n",
       "  </tbody>\n",
       "</table>\n",
       "<p>3332 rows × 1 columns</p>\n",
       "</div>"
      ],
      "text/plain": [
       "               Customer_care_calls\n",
       "Weight_in_gms                     \n",
       "1001                           4.0\n",
       "1002                           4.0\n",
       "1003                           5.5\n",
       "1005                           4.0\n",
       "1006                           5.0\n",
       "...                            ...\n",
       "6000                           3.0\n",
       "6064                           2.0\n",
       "7401                           2.0\n",
       "7640                           2.0\n",
       "7846                           2.0\n",
       "\n",
       "[3332 rows x 1 columns]"
      ]
     },
     "execution_count": 61,
     "metadata": {},
     "output_type": "execute_result"
    }
   ],
   "source": [
    "# 결측치 채우고 상관관계 다시 확인\n",
    "pt1 = train.pivot_table(values = 'Customer_care_calls',\n",
    "                 index = ['Weight_in_gms'],\n",
    "                 aggfunc = 'mean')\n",
    "pt1"
   ]
  },
  {
   "cell_type": "code",
   "execution_count": 62,
   "id": "7e8acf30",
   "metadata": {
    "scrolled": true
   },
   "outputs": [
    {
     "data": {
      "text/html": [
       "<div>\n",
       "<style scoped>\n",
       "    .dataframe tbody tr th:only-of-type {\n",
       "        vertical-align: middle;\n",
       "    }\n",
       "\n",
       "    .dataframe tbody tr th {\n",
       "        vertical-align: top;\n",
       "    }\n",
       "\n",
       "    .dataframe thead th {\n",
       "        text-align: right;\n",
       "    }\n",
       "</style>\n",
       "<table border=\"1\" class=\"dataframe\">\n",
       "  <thead>\n",
       "    <tr style=\"text-align: right;\">\n",
       "      <th></th>\n",
       "      <th>Customer_care_calls</th>\n",
       "    </tr>\n",
       "    <tr>\n",
       "      <th>Weight_in_gms</th>\n",
       "      <th></th>\n",
       "    </tr>\n",
       "  </thead>\n",
       "  <tbody>\n",
       "    <tr>\n",
       "      <th>1001</th>\n",
       "      <td>4.0</td>\n",
       "    </tr>\n",
       "    <tr>\n",
       "      <th>1002</th>\n",
       "      <td>4.0</td>\n",
       "    </tr>\n",
       "    <tr>\n",
       "      <th>1003</th>\n",
       "      <td>5.5</td>\n",
       "    </tr>\n",
       "    <tr>\n",
       "      <th>1005</th>\n",
       "      <td>4.0</td>\n",
       "    </tr>\n",
       "    <tr>\n",
       "      <th>1006</th>\n",
       "      <td>5.0</td>\n",
       "    </tr>\n",
       "    <tr>\n",
       "      <th>...</th>\n",
       "      <td>...</td>\n",
       "    </tr>\n",
       "    <tr>\n",
       "      <th>6000</th>\n",
       "      <td>3.0</td>\n",
       "    </tr>\n",
       "    <tr>\n",
       "      <th>6064</th>\n",
       "      <td>2.0</td>\n",
       "    </tr>\n",
       "    <tr>\n",
       "      <th>7401</th>\n",
       "      <td>2.0</td>\n",
       "    </tr>\n",
       "    <tr>\n",
       "      <th>7640</th>\n",
       "      <td>2.0</td>\n",
       "    </tr>\n",
       "    <tr>\n",
       "      <th>7846</th>\n",
       "      <td>2.0</td>\n",
       "    </tr>\n",
       "  </tbody>\n",
       "</table>\n",
       "<p>3332 rows × 1 columns</p>\n",
       "</div>"
      ],
      "text/plain": [
       "               Customer_care_calls\n",
       "Weight_in_gms                     \n",
       "1001                           4.0\n",
       "1002                           4.0\n",
       "1003                           5.5\n",
       "1005                           4.0\n",
       "1006                           5.0\n",
       "...                            ...\n",
       "6000                           3.0\n",
       "6064                           2.0\n",
       "7401                           2.0\n",
       "7640                           2.0\n",
       "7846                           2.0\n",
       "\n",
       "[3332 rows x 1 columns]"
      ]
     },
     "execution_count": 62,
     "metadata": {},
     "output_type": "execute_result"
    }
   ],
   "source": [
    "# 결측치 채우고 상관관계 다시 확인\n",
    "pt1 = train.pivot_table(values = 'Customer_care_calls',\n",
    "                 index = ['Weight_in_gms'],\n",
    "                 aggfunc = 'mean')\n",
    "pt1"
   ]
  },
  {
   "cell_type": "code",
   "execution_count": null,
   "id": "7e126fc3",
   "metadata": {},
   "outputs": [],
   "source": []
  },
  {
   "cell_type": "markdown",
   "id": "a5e56ba6",
   "metadata": {},
   "source": [
    "## 인코딩!"
   ]
  },
  {
   "cell_type": "code",
   "execution_count": 195,
   "id": "44594d21",
   "metadata": {},
   "outputs": [],
   "source": [
    "category=['Warehouse_block ','Mode_of_Shipment','Product_importance']\n",
    "one_hot_train = pd.get_dummies(trainDf[category])\n",
    "one_hot_test = pd.get_dummies(testDf[category])\n"
   ]
  },
  {
   "cell_type": "code",
   "execution_count": 196,
   "id": "51d84c1d",
   "metadata": {},
   "outputs": [],
   "source": [
    "\n",
    "# 원학인코딩후 기존컬럼 제거\n",
    "trainDf.drop(category, axis=1, inplace=True)\n",
    "testDf.drop(category, axis=1, inplace=True)"
   ]
  },
  {
   "cell_type": "code",
   "execution_count": 197,
   "id": "72ddfc2d",
   "metadata": {},
   "outputs": [],
   "source": [
    "# 원핫인코딩 컬럼 합치기\n",
    "trainDf=pd.concat([trainDf,one_hot_train], axis=1)\n",
    "testDf=pd.concat([testDf,one_hot_test], axis=1)\n"
   ]
  },
  {
   "cell_type": "code",
   "execution_count": 198,
   "id": "eea9d031",
   "metadata": {
    "scrolled": false
   },
   "outputs": [
    {
     "name": "stdout",
     "output_type": "stream",
     "text": [
      "<class 'pandas.core.frame.DataFrame'>\n",
      "RangeIndex: 6999 entries, 0 to 6998\n",
      "Data columns (total 17 columns):\n",
      " #   Column                     Non-Null Count  Dtype  \n",
      "---  ------                     --------------  -----  \n",
      " 0   Customer_care_calls        6999 non-null   int64  \n",
      " 1   Customer_rating            6999 non-null   int64  \n",
      " 2   Cost_of_the_Product        6999 non-null   int64  \n",
      " 3   Prior_purchases            6999 non-null   float64\n",
      " 4   Weight_in_gms              6999 non-null   int64  \n",
      " 5   Reached.on.Time_Y.N        6999 non-null   int64  \n",
      " 6   Warehouse_block _A         6999 non-null   bool   \n",
      " 7   Warehouse_block _B         6999 non-null   bool   \n",
      " 8   Warehouse_block _C         6999 non-null   bool   \n",
      " 9   Warehouse_block _D         6999 non-null   bool   \n",
      " 10  Warehouse_block _F         6999 non-null   bool   \n",
      " 11  Mode_of_Shipment_Flight    6999 non-null   bool   \n",
      " 12  Mode_of_Shipment_Road      6999 non-null   bool   \n",
      " 13  Mode_of_Shipment_Ship      6999 non-null   bool   \n",
      " 14  Product_importance_high    6999 non-null   bool   \n",
      " 15  Product_importance_low     6999 non-null   bool   \n",
      " 16  Product_importance_medium  6999 non-null   bool   \n",
      "dtypes: bool(11), float64(1), int64(5)\n",
      "memory usage: 403.4 KB\n"
     ]
    }
   ],
   "source": [
    "trainDf.info()"
   ]
  },
  {
   "cell_type": "code",
   "execution_count": null,
   "id": "dfdc6974",
   "metadata": {},
   "outputs": [],
   "source": []
  },
  {
   "cell_type": "markdown",
   "id": "9d5471e0",
   "metadata": {},
   "source": [
    "## 모델 해보기"
   ]
  },
  {
   "cell_type": "code",
   "execution_count": null,
   "id": "559119fc",
   "metadata": {},
   "outputs": [],
   "source": [
    "from sklearn.neighbors import KNeighborsClassifier\n",
    "from sklearn.tree import DecisionTreeClassifier\n",
    "from sklearn.metrics import confusion_matrix"
   ]
  },
  {
   "cell_type": "code",
   "execution_count": null,
   "id": "5804ea94",
   "metadata": {},
   "outputs": [],
   "source": [
    "# 먼저 train의 문제와 답을 분리시켜주기\n",
    "\n",
    "X_train = trainDf.drop('Reached.on.Time_Y.N', axis=1)\n",
    "y_train = trainDf['Reached.on.Time_Y.N']\n",
    "X_test = testDf"
   ]
  },
  {
   "cell_type": "code",
   "execution_count": null,
   "id": "f4578d37",
   "metadata": {},
   "outputs": [],
   "source": []
  },
  {
   "cell_type": "code",
   "execution_count": null,
   "id": "9bc7aaba",
   "metadata": {},
   "outputs": [],
   "source": []
  },
  {
   "cell_type": "code",
   "execution_count": null,
   "id": "6d9af834",
   "metadata": {},
   "outputs": [],
   "source": []
  },
  {
   "cell_type": "code",
   "execution_count": null,
   "id": "352fa47e",
   "metadata": {},
   "outputs": [],
   "source": []
  },
  {
   "cell_type": "code",
   "execution_count": 63,
   "id": "52adb18e",
   "metadata": {},
   "outputs": [],
   "source": [
    "# categorical_features = ['Warehouse_block ', 'Mode_of_Shipment', 'Product_importance']\n",
    "# categorical_features\n",
    "# train['Warehouse_block ']\n",
    "# pd.get_dummies(train['Warehouse_block '], prefix = 'Warehouse_block ')\n",
    "# for feature_name in categorical_features:\n",
    "#     one_hot = pd.get_dummies(train[feature_name], prefix = feature_name) # One-Hot Encoding\n",
    "#     train.drop(feature_name, axis = 1, inplace = True) # 기존의 문자형 컬럼 삭제\n",
    "#     train = pd.concat([train, one_hot], axis=1) # One-Hot Encoding한 숫자형 컬럼을 train컬럼에 붙여준다    \n",
    "# for feature_name in categorical_features:\n",
    "#     one_hot = pd.get_dummies(test[feature_name], prefix = feature_name)\n",
    "#     test.drop(feature_name, axis = 1, inplace = True) \n",
    "#     test = pd.concat([test, one_hot], axis=1)    \n",
    "#     train.shape, test.shape"
   ]
  },
  {
   "cell_type": "code",
   "execution_count": 64,
   "id": "3af8acb6",
   "metadata": {},
   "outputs": [],
   "source": [
    "# 먼저 train의 문제와 답을 분리시켜주기\n",
    "X_train = train.drop('Reached.on.Time_Y.N', axis=1) # 드랍을 이용한 분리\n",
    "y_train = train['Reached.on.Time_Y.N']"
   ]
  },
  {
   "cell_type": "code",
   "execution_count": 65,
   "id": "b6b3a6ba",
   "metadata": {
    "scrolled": true
   },
   "outputs": [
    {
     "name": "stdout",
     "output_type": "stream",
     "text": [
      "<class 'pandas.core.frame.DataFrame'>\n",
      "RangeIndex: 6999 entries, 0 to 6998\n",
      "Data columns (total 16 columns):\n",
      " #   Column                     Non-Null Count  Dtype  \n",
      "---  ------                     --------------  -----  \n",
      " 0   Customer_care_calls        6999 non-null   float64\n",
      " 1   Customer_rating            6999 non-null   int64  \n",
      " 2   Cost_of_the_Product        6999 non-null   int64  \n",
      " 3   Prior_purchases            6999 non-null   float64\n",
      " 4   Weight_in_gms              6999 non-null   int64  \n",
      " 5   Warehouse_block _A         6999 non-null   uint8  \n",
      " 6   Warehouse_block _B         6999 non-null   uint8  \n",
      " 7   Warehouse_block _C         6999 non-null   uint8  \n",
      " 8   Warehouse_block _D         6999 non-null   uint8  \n",
      " 9   Warehouse_block _F         6999 non-null   uint8  \n",
      " 10  Mode_of_Shipment_Flight    6999 non-null   uint8  \n",
      " 11  Mode_of_Shipment_Road      6999 non-null   uint8  \n",
      " 12  Mode_of_Shipment_Ship      6999 non-null   uint8  \n",
      " 13  Product_importance_high    6999 non-null   uint8  \n",
      " 14  Product_importance_low     6999 non-null   uint8  \n",
      " 15  Product_importance_medium  6999 non-null   uint8  \n",
      "dtypes: float64(2), int64(3), uint8(11)\n",
      "memory usage: 348.7 KB\n"
     ]
    }
   ],
   "source": [
    "X_train.info()"
   ]
  },
  {
   "cell_type": "code",
   "execution_count": 24,
   "id": "df95bff8",
   "metadata": {},
   "outputs": [],
   "source": [
    "# # 데이터 분리\n",
    "# from sklearn.model_selection import train_test_split\n",
    "# X_train, X_test, y_train, y_test = train_test_split(X,y,test_size = 0.3)\n",
    "# X_train.shape, y_train.shape"
   ]
  },
  {
   "cell_type": "code",
   "execution_count": 66,
   "id": "2f02fee5",
   "metadata": {},
   "outputs": [],
   "source": [
    "# 모델선택\n",
    "from sklearn.neighbors import KNeighborsClassifier\n",
    "from sklearn.tree import DecisionTreeClassifier\n",
    "knn_model = KNeighborsClassifier()\n",
    "tree_model = DecisionTreeClassifier()"
   ]
  },
  {
   "cell_type": "code",
   "execution_count": 67,
   "id": "231b7c09",
   "metadata": {},
   "outputs": [
    {
     "data": {
      "text/html": [
       "<style>#sk-container-id-1 {color: black;background-color: white;}#sk-container-id-1 pre{padding: 0;}#sk-container-id-1 div.sk-toggleable {background-color: white;}#sk-container-id-1 label.sk-toggleable__label {cursor: pointer;display: block;width: 100%;margin-bottom: 0;padding: 0.3em;box-sizing: border-box;text-align: center;}#sk-container-id-1 label.sk-toggleable__label-arrow:before {content: \"▸\";float: left;margin-right: 0.25em;color: #696969;}#sk-container-id-1 label.sk-toggleable__label-arrow:hover:before {color: black;}#sk-container-id-1 div.sk-estimator:hover label.sk-toggleable__label-arrow:before {color: black;}#sk-container-id-1 div.sk-toggleable__content {max-height: 0;max-width: 0;overflow: hidden;text-align: left;background-color: #f0f8ff;}#sk-container-id-1 div.sk-toggleable__content pre {margin: 0.2em;color: black;border-radius: 0.25em;background-color: #f0f8ff;}#sk-container-id-1 input.sk-toggleable__control:checked~div.sk-toggleable__content {max-height: 200px;max-width: 100%;overflow: auto;}#sk-container-id-1 input.sk-toggleable__control:checked~label.sk-toggleable__label-arrow:before {content: \"▾\";}#sk-container-id-1 div.sk-estimator input.sk-toggleable__control:checked~label.sk-toggleable__label {background-color: #d4ebff;}#sk-container-id-1 div.sk-label input.sk-toggleable__control:checked~label.sk-toggleable__label {background-color: #d4ebff;}#sk-container-id-1 input.sk-hidden--visually {border: 0;clip: rect(1px 1px 1px 1px);clip: rect(1px, 1px, 1px, 1px);height: 1px;margin: -1px;overflow: hidden;padding: 0;position: absolute;width: 1px;}#sk-container-id-1 div.sk-estimator {font-family: monospace;background-color: #f0f8ff;border: 1px dotted black;border-radius: 0.25em;box-sizing: border-box;margin-bottom: 0.5em;}#sk-container-id-1 div.sk-estimator:hover {background-color: #d4ebff;}#sk-container-id-1 div.sk-parallel-item::after {content: \"\";width: 100%;border-bottom: 1px solid gray;flex-grow: 1;}#sk-container-id-1 div.sk-label:hover label.sk-toggleable__label {background-color: #d4ebff;}#sk-container-id-1 div.sk-serial::before {content: \"\";position: absolute;border-left: 1px solid gray;box-sizing: border-box;top: 0;bottom: 0;left: 50%;z-index: 0;}#sk-container-id-1 div.sk-serial {display: flex;flex-direction: column;align-items: center;background-color: white;padding-right: 0.2em;padding-left: 0.2em;position: relative;}#sk-container-id-1 div.sk-item {position: relative;z-index: 1;}#sk-container-id-1 div.sk-parallel {display: flex;align-items: stretch;justify-content: center;background-color: white;position: relative;}#sk-container-id-1 div.sk-item::before, #sk-container-id-1 div.sk-parallel-item::before {content: \"\";position: absolute;border-left: 1px solid gray;box-sizing: border-box;top: 0;bottom: 0;left: 50%;z-index: -1;}#sk-container-id-1 div.sk-parallel-item {display: flex;flex-direction: column;z-index: 1;position: relative;background-color: white;}#sk-container-id-1 div.sk-parallel-item:first-child::after {align-self: flex-end;width: 50%;}#sk-container-id-1 div.sk-parallel-item:last-child::after {align-self: flex-start;width: 50%;}#sk-container-id-1 div.sk-parallel-item:only-child::after {width: 0;}#sk-container-id-1 div.sk-dashed-wrapped {border: 1px dashed gray;margin: 0 0.4em 0.5em 0.4em;box-sizing: border-box;padding-bottom: 0.4em;background-color: white;}#sk-container-id-1 div.sk-label label {font-family: monospace;font-weight: bold;display: inline-block;line-height: 1.2em;}#sk-container-id-1 div.sk-label-container {text-align: center;}#sk-container-id-1 div.sk-container {/* jupyter's `normalize.less` sets `[hidden] { display: none; }` but bootstrap.min.css set `[hidden] { display: none !important; }` so we also need the `!important` here to be able to override the default hidden behavior on the sphinx rendered scikit-learn.org. See: https://github.com/scikit-learn/scikit-learn/issues/21755 */display: inline-block !important;position: relative;}#sk-container-id-1 div.sk-text-repr-fallback {display: none;}</style><div id=\"sk-container-id-1\" class=\"sk-top-container\"><div class=\"sk-text-repr-fallback\"><pre>DecisionTreeClassifier()</pre><b>In a Jupyter environment, please rerun this cell to show the HTML representation or trust the notebook. <br />On GitHub, the HTML representation is unable to render, please try loading this page with nbviewer.org.</b></div><div class=\"sk-container\" hidden><div class=\"sk-item\"><div class=\"sk-estimator sk-toggleable\"><input class=\"sk-toggleable__control sk-hidden--visually\" id=\"sk-estimator-id-1\" type=\"checkbox\" checked><label for=\"sk-estimator-id-1\" class=\"sk-toggleable__label sk-toggleable__label-arrow\">DecisionTreeClassifier</label><div class=\"sk-toggleable__content\"><pre>DecisionTreeClassifier()</pre></div></div></div></div></div>"
      ],
      "text/plain": [
       "DecisionTreeClassifier()"
      ]
     },
     "execution_count": 67,
     "metadata": {},
     "output_type": "execute_result"
    }
   ],
   "source": [
    "# 모델 학습 및 평가\n",
    "knn_model.fit(X_train,y_train)\n",
    "tree_model.fit(X_train,y_train)"
   ]
  },
  {
   "cell_type": "code",
   "execution_count": 83,
   "id": "5cdec190",
   "metadata": {},
   "outputs": [
    {
     "data": {
      "text/plain": [
       "0.65309578270193"
      ]
     },
     "execution_count": 83,
     "metadata": {},
     "output_type": "execute_result"
    }
   ],
   "source": [
    "from sklearn.model_selection import cross_val_score\n",
    "result = cross_val_score(knn_model,X_train,y_train)\n",
    "result.mean()"
   ]
  },
  {
   "cell_type": "code",
   "execution_count": 84,
   "id": "bf2f5237",
   "metadata": {},
   "outputs": [
    {
     "data": {
      "text/plain": [
       "0.6312347595221077"
      ]
     },
     "execution_count": 84,
     "metadata": {},
     "output_type": "execute_result"
    }
   ],
   "source": [
    "tree_result = cross_val_score(tree_model,X_train,y_train)\n",
    "tree_result.mean()"
   ]
  },
  {
   "cell_type": "code",
   "execution_count": 68,
   "id": "6dc3be26",
   "metadata": {},
   "outputs": [
    {
     "data": {
      "text/plain": [
       "0.6290923108342693"
      ]
     },
     "execution_count": 68,
     "metadata": {},
     "output_type": "execute_result"
    }
   ],
   "source": [
    "# 교차 검증\n",
    "from sklearn.model_selection import cross_val_score\n",
    "result = cross_val_score(knn_model,X_train,y_train)\n",
    "result.mean()\n",
    "tree_result = cross_val_score(tree_model,X_train,y_train)\n",
    "tree_result.mean()"
   ]
  },
  {
   "cell_type": "code",
   "execution_count": null,
   "id": "39c82621",
   "metadata": {},
   "outputs": [],
   "source": [
    "# 교차 검증\n",
    "from sklearn.model_selection import cross_val_score\n",
    "result = cross_val_score(knn_model,X_train,y_train)\n",
    "result.mean()"
   ]
  },
  {
   "cell_type": "code",
   "execution_count": 89,
   "id": "5b2c3bdc",
   "metadata": {},
   "outputs": [],
   "source": [
    "# # 하이퍼 파라미터 튜닝\n",
    "# knn_list = []\n",
    "\n",
    "# for k in range(1,150,2):\n",
    "#     knn_model = KNeighborsClassifier(n_neighbors=k)\n",
    "#     knn_model.fit(X_train,y_train)\n",
    "#     result = knn_model.score(X_test,y_test)\n",
    "#     knn_list.append(result)"
   ]
  },
  {
   "cell_type": "code",
   "execution_count": 71,
   "id": "d38009ed",
   "metadata": {},
   "outputs": [
    {
     "data": {
      "text/plain": [
       "0.6732435413050137"
      ]
     },
     "execution_count": 71,
     "metadata": {},
     "output_type": "execute_result"
    }
   ],
   "source": [
    "# RandomForest, ensemble 사용\n",
    "from sklearn.ensemble import RandomForestClassifier\n",
    "rf_model = RandomForestClassifier(max_depth=5, max_features=0.7, min_samples_leaf=10,\n",
    "                       n_estimators=1000, n_jobs=-1)\n",
    "rf_model\n",
    "rf_model.fit(X_train,y_train)\n",
    "rf_pre = cross_val_score(rf_model, X_train, y_train, cv = 5)\n",
    "rf_pre.mean()"
   ]
  },
  {
   "cell_type": "code",
   "execution_count": 72,
   "id": "16ff6858",
   "metadata": {},
   "outputs": [],
   "source": [
    "X_test = test"
   ]
  },
  {
   "cell_type": "code",
   "execution_count": 73,
   "id": "822c4af6",
   "metadata": {},
   "outputs": [],
   "source": [
    "# 학습된 모델로 예측 진행하기 - predict()\n",
    "pre = rf_model.predict(X_test)"
   ]
  },
  {
   "cell_type": "code",
   "execution_count": 74,
   "id": "09f574fc",
   "metadata": {},
   "outputs": [
    {
     "data": {
      "text/plain": [
       "4000"
      ]
     },
     "execution_count": 74,
     "metadata": {},
     "output_type": "execute_result"
    }
   ],
   "source": [
    "len(pre)"
   ]
  },
  {
   "cell_type": "code",
   "execution_count": 75,
   "id": "d659dce9",
   "metadata": {},
   "outputs": [
    {
     "data": {
      "text/html": [
       "<div>\n",
       "<style scoped>\n",
       "    .dataframe tbody tr th:only-of-type {\n",
       "        vertical-align: middle;\n",
       "    }\n",
       "\n",
       "    .dataframe tbody tr th {\n",
       "        vertical-align: top;\n",
       "    }\n",
       "\n",
       "    .dataframe thead th {\n",
       "        text-align: right;\n",
       "    }\n",
       "</style>\n",
       "<table border=\"1\" class=\"dataframe\">\n",
       "  <thead>\n",
       "    <tr style=\"text-align: right;\">\n",
       "      <th></th>\n",
       "      <th>ID</th>\n",
       "      <th>Reached.on.Time_Y.N</th>\n",
       "    </tr>\n",
       "  </thead>\n",
       "  <tbody>\n",
       "    <tr>\n",
       "      <th>0</th>\n",
       "      <td>7000</td>\n",
       "      <td>NaN</td>\n",
       "    </tr>\n",
       "    <tr>\n",
       "      <th>1</th>\n",
       "      <td>7001</td>\n",
       "      <td>NaN</td>\n",
       "    </tr>\n",
       "    <tr>\n",
       "      <th>2</th>\n",
       "      <td>7002</td>\n",
       "      <td>NaN</td>\n",
       "    </tr>\n",
       "    <tr>\n",
       "      <th>3</th>\n",
       "      <td>7003</td>\n",
       "      <td>NaN</td>\n",
       "    </tr>\n",
       "    <tr>\n",
       "      <th>4</th>\n",
       "      <td>7004</td>\n",
       "      <td>NaN</td>\n",
       "    </tr>\n",
       "    <tr>\n",
       "      <th>...</th>\n",
       "      <td>...</td>\n",
       "      <td>...</td>\n",
       "    </tr>\n",
       "    <tr>\n",
       "      <th>3995</th>\n",
       "      <td>10995</td>\n",
       "      <td>NaN</td>\n",
       "    </tr>\n",
       "    <tr>\n",
       "      <th>3996</th>\n",
       "      <td>10996</td>\n",
       "      <td>NaN</td>\n",
       "    </tr>\n",
       "    <tr>\n",
       "      <th>3997</th>\n",
       "      <td>10997</td>\n",
       "      <td>NaN</td>\n",
       "    </tr>\n",
       "    <tr>\n",
       "      <th>3998</th>\n",
       "      <td>10998</td>\n",
       "      <td>NaN</td>\n",
       "    </tr>\n",
       "    <tr>\n",
       "      <th>3999</th>\n",
       "      <td>10999</td>\n",
       "      <td>NaN</td>\n",
       "    </tr>\n",
       "  </tbody>\n",
       "</table>\n",
       "<p>4000 rows × 2 columns</p>\n",
       "</div>"
      ],
      "text/plain": [
       "         ID  Reached.on.Time_Y.N\n",
       "0      7000                  NaN\n",
       "1      7001                  NaN\n",
       "2      7002                  NaN\n",
       "3      7003                  NaN\n",
       "4      7004                  NaN\n",
       "...     ...                  ...\n",
       "3995  10995                  NaN\n",
       "3996  10996                  NaN\n",
       "3997  10997                  NaN\n",
       "3998  10998                  NaN\n",
       "3999  10999                  NaN\n",
       "\n",
       "[4000 rows x 2 columns]"
      ]
     },
     "execution_count": 75,
     "metadata": {},
     "output_type": "execute_result"
    }
   ],
   "source": [
    "omr = pd.read_csv('./data/sampleSubmission.csv')\n",
    "omr"
   ]
  },
  {
   "cell_type": "code",
   "execution_count": 76,
   "id": "cc044367",
   "metadata": {},
   "outputs": [
    {
     "data": {
      "text/plain": [
       "(4000, 2)"
      ]
     },
     "execution_count": 76,
     "metadata": {},
     "output_type": "execute_result"
    }
   ],
   "source": [
    "omr.shape"
   ]
  },
  {
   "cell_type": "code",
   "execution_count": 77,
   "id": "32d7c0b4",
   "metadata": {},
   "outputs": [
    {
     "name": "stdout",
     "output_type": "stream",
     "text": [
      "<class 'pandas.core.frame.DataFrame'>\n",
      "RangeIndex: 4000 entries, 0 to 3999\n",
      "Data columns (total 2 columns):\n",
      " #   Column               Non-Null Count  Dtype\n",
      "---  ------               --------------  -----\n",
      " 0   ID                   4000 non-null   int64\n",
      " 1   Reached.on.Time_Y.N  4000 non-null   int64\n",
      "dtypes: int64(2)\n",
      "memory usage: 62.6 KB\n"
     ]
    }
   ],
   "source": [
    "omr['Reached.on.Time_Y.N'] = pre\n",
    "omr.info()"
   ]
  },
  {
   "cell_type": "code",
   "execution_count": 78,
   "id": "b6d9fabe",
   "metadata": {},
   "outputs": [],
   "source": [
    "omr.to_csv('Kaggle_01.csv', index = False)"
   ]
  },
  {
   "cell_type": "code",
   "execution_count": null,
   "id": "87afc8c9",
   "metadata": {},
   "outputs": [],
   "source": []
  },
  {
   "cell_type": "code",
   "execution_count": null,
   "id": "20eea957",
   "metadata": {},
   "outputs": [],
   "source": []
  },
  {
   "cell_type": "code",
   "execution_count": 80,
   "id": "35481431",
   "metadata": {},
   "outputs": [
    {
     "name": "stdout",
     "output_type": "stream",
     "text": [
      "Fitting 3 folds for each of 54 candidates, totalling 162 fits\n",
      "[CV] END max_depth=3, max_features=0.4, min_samples_leaf=10, n_estimators=1000, n_jobs=-1; total time=   1.4s\n",
      "[CV] END max_depth=3, max_features=0.4, min_samples_leaf=10, n_estimators=1000, n_jobs=-1; total time=   1.5s\n",
      "[CV] END max_depth=3, max_features=0.4, min_samples_leaf=10, n_estimators=1000, n_jobs=-1; total time=   1.0s\n",
      "[CV] END max_depth=3, max_features=0.4, min_samples_leaf=10, n_estimators=2000, n_jobs=-1; total time=   2.3s\n",
      "[CV] END max_depth=3, max_features=0.4, min_samples_leaf=10, n_estimators=2000, n_jobs=-1; total time=   2.0s\n",
      "[CV] END max_depth=3, max_features=0.4, min_samples_leaf=10, n_estimators=2000, n_jobs=-1; total time=   2.6s\n",
      "[CV] END max_depth=3, max_features=0.4, min_samples_leaf=20, n_estimators=1000, n_jobs=-1; total time=   1.3s\n",
      "[CV] END max_depth=3, max_features=0.4, min_samples_leaf=20, n_estimators=1000, n_jobs=-1; total time=   1.3s\n",
      "[CV] END max_depth=3, max_features=0.4, min_samples_leaf=20, n_estimators=1000, n_jobs=-1; total time=   1.2s\n",
      "[CV] END max_depth=3, max_features=0.4, min_samples_leaf=20, n_estimators=2000, n_jobs=-1; total time=   2.7s\n",
      "[CV] END max_depth=3, max_features=0.4, min_samples_leaf=20, n_estimators=2000, n_jobs=-1; total time=   2.4s\n",
      "[CV] END max_depth=3, max_features=0.4, min_samples_leaf=20, n_estimators=2000, n_jobs=-1; total time=   2.5s\n",
      "[CV] END max_depth=3, max_features=0.4, min_samples_leaf=30, n_estimators=1000, n_jobs=-1; total time=   1.0s\n",
      "[CV] END max_depth=3, max_features=0.4, min_samples_leaf=30, n_estimators=1000, n_jobs=-1; total time=   1.0s\n",
      "[CV] END max_depth=3, max_features=0.4, min_samples_leaf=30, n_estimators=1000, n_jobs=-1; total time=   1.1s\n",
      "[CV] END max_depth=3, max_features=0.4, min_samples_leaf=30, n_estimators=2000, n_jobs=-1; total time=   2.5s\n",
      "[CV] END max_depth=3, max_features=0.4, min_samples_leaf=30, n_estimators=2000, n_jobs=-1; total time=   2.4s\n",
      "[CV] END max_depth=3, max_features=0.4, min_samples_leaf=30, n_estimators=2000, n_jobs=-1; total time=   2.1s\n",
      "[CV] END max_depth=3, max_features=0.5, min_samples_leaf=10, n_estimators=1000, n_jobs=-1; total time=   1.0s\n",
      "[CV] END max_depth=3, max_features=0.5, min_samples_leaf=10, n_estimators=1000, n_jobs=-1; total time=   1.0s\n",
      "[CV] END max_depth=3, max_features=0.5, min_samples_leaf=10, n_estimators=1000, n_jobs=-1; total time=   0.9s\n",
      "[CV] END max_depth=3, max_features=0.5, min_samples_leaf=10, n_estimators=2000, n_jobs=-1; total time=   2.3s\n",
      "[CV] END max_depth=3, max_features=0.5, min_samples_leaf=10, n_estimators=2000, n_jobs=-1; total time=   2.0s\n",
      "[CV] END max_depth=3, max_features=0.5, min_samples_leaf=10, n_estimators=2000, n_jobs=-1; total time=   2.3s\n",
      "[CV] END max_depth=3, max_features=0.5, min_samples_leaf=20, n_estimators=1000, n_jobs=-1; total time=   1.3s\n",
      "[CV] END max_depth=3, max_features=0.5, min_samples_leaf=20, n_estimators=1000, n_jobs=-1; total time=   1.3s\n",
      "[CV] END max_depth=3, max_features=0.5, min_samples_leaf=20, n_estimators=1000, n_jobs=-1; total time=   1.0s\n",
      "[CV] END max_depth=3, max_features=0.5, min_samples_leaf=20, n_estimators=2000, n_jobs=-1; total time=   2.5s\n",
      "[CV] END max_depth=3, max_features=0.5, min_samples_leaf=20, n_estimators=2000, n_jobs=-1; total time=   2.8s\n",
      "[CV] END max_depth=3, max_features=0.5, min_samples_leaf=20, n_estimators=2000, n_jobs=-1; total time=   2.4s\n",
      "[CV] END max_depth=3, max_features=0.5, min_samples_leaf=30, n_estimators=1000, n_jobs=-1; total time=   1.1s\n",
      "[CV] END max_depth=3, max_features=0.5, min_samples_leaf=30, n_estimators=1000, n_jobs=-1; total time=   0.9s\n",
      "[CV] END max_depth=3, max_features=0.5, min_samples_leaf=30, n_estimators=1000, n_jobs=-1; total time=   0.9s\n",
      "[CV] END max_depth=3, max_features=0.5, min_samples_leaf=30, n_estimators=2000, n_jobs=-1; total time=   2.5s\n",
      "[CV] END max_depth=3, max_features=0.5, min_samples_leaf=30, n_estimators=2000, n_jobs=-1; total time=   2.5s\n",
      "[CV] END max_depth=3, max_features=0.5, min_samples_leaf=30, n_estimators=2000, n_jobs=-1; total time=   2.9s\n",
      "[CV] END max_depth=3, max_features=0.6, min_samples_leaf=10, n_estimators=1000, n_jobs=-1; total time=   1.3s\n",
      "[CV] END max_depth=3, max_features=0.6, min_samples_leaf=10, n_estimators=1000, n_jobs=-1; total time=   1.0s\n",
      "[CV] END max_depth=3, max_features=0.6, min_samples_leaf=10, n_estimators=1000, n_jobs=-1; total time=   1.1s\n",
      "[CV] END max_depth=3, max_features=0.6, min_samples_leaf=10, n_estimators=2000, n_jobs=-1; total time=   2.5s\n",
      "[CV] END max_depth=3, max_features=0.6, min_samples_leaf=10, n_estimators=2000, n_jobs=-1; total time=   2.6s\n",
      "[CV] END max_depth=3, max_features=0.6, min_samples_leaf=10, n_estimators=2000, n_jobs=-1; total time=   2.6s\n",
      "[CV] END max_depth=3, max_features=0.6, min_samples_leaf=20, n_estimators=1000, n_jobs=-1; total time=   1.4s\n",
      "[CV] END max_depth=3, max_features=0.6, min_samples_leaf=20, n_estimators=1000, n_jobs=-1; total time=   1.2s\n",
      "[CV] END max_depth=3, max_features=0.6, min_samples_leaf=20, n_estimators=1000, n_jobs=-1; total time=   1.2s\n",
      "[CV] END max_depth=3, max_features=0.6, min_samples_leaf=20, n_estimators=2000, n_jobs=-1; total time=   2.3s\n",
      "[CV] END max_depth=3, max_features=0.6, min_samples_leaf=20, n_estimators=2000, n_jobs=-1; total time=   2.1s\n",
      "[CV] END max_depth=3, max_features=0.6, min_samples_leaf=20, n_estimators=2000, n_jobs=-1; total time=   2.3s\n",
      "[CV] END max_depth=3, max_features=0.6, min_samples_leaf=30, n_estimators=1000, n_jobs=-1; total time=   1.2s\n",
      "[CV] END max_depth=3, max_features=0.6, min_samples_leaf=30, n_estimators=1000, n_jobs=-1; total time=   1.4s\n",
      "[CV] END max_depth=3, max_features=0.6, min_samples_leaf=30, n_estimators=1000, n_jobs=-1; total time=   1.1s\n",
      "[CV] END max_depth=3, max_features=0.6, min_samples_leaf=30, n_estimators=2000, n_jobs=-1; total time=   2.3s\n",
      "[CV] END max_depth=3, max_features=0.6, min_samples_leaf=30, n_estimators=2000, n_jobs=-1; total time=   2.3s\n",
      "[CV] END max_depth=3, max_features=0.6, min_samples_leaf=30, n_estimators=2000, n_jobs=-1; total time=   2.6s\n",
      "[CV] END max_depth=5, max_features=0.4, min_samples_leaf=10, n_estimators=1000, n_jobs=-1; total time=   1.3s\n",
      "[CV] END max_depth=5, max_features=0.4, min_samples_leaf=10, n_estimators=1000, n_jobs=-1; total time=   1.3s\n",
      "[CV] END max_depth=5, max_features=0.4, min_samples_leaf=10, n_estimators=1000, n_jobs=-1; total time=   1.2s\n",
      "[CV] END max_depth=5, max_features=0.4, min_samples_leaf=10, n_estimators=2000, n_jobs=-1; total time=   2.6s\n",
      "[CV] END max_depth=5, max_features=0.4, min_samples_leaf=10, n_estimators=2000, n_jobs=-1; total time=   2.7s\n",
      "[CV] END max_depth=5, max_features=0.4, min_samples_leaf=10, n_estimators=2000, n_jobs=-1; total time=   2.7s\n",
      "[CV] END max_depth=5, max_features=0.4, min_samples_leaf=20, n_estimators=1000, n_jobs=-1; total time=   1.2s\n",
      "[CV] END max_depth=5, max_features=0.4, min_samples_leaf=20, n_estimators=1000, n_jobs=-1; total time=   1.4s\n",
      "[CV] END max_depth=5, max_features=0.4, min_samples_leaf=20, n_estimators=1000, n_jobs=-1; total time=   1.1s\n",
      "[CV] END max_depth=5, max_features=0.4, min_samples_leaf=20, n_estimators=2000, n_jobs=-1; total time=   2.6s\n",
      "[CV] END max_depth=5, max_features=0.4, min_samples_leaf=20, n_estimators=2000, n_jobs=-1; total time=   2.5s\n",
      "[CV] END max_depth=5, max_features=0.4, min_samples_leaf=20, n_estimators=2000, n_jobs=-1; total time=   2.7s\n",
      "[CV] END max_depth=5, max_features=0.4, min_samples_leaf=30, n_estimators=1000, n_jobs=-1; total time=   1.4s\n",
      "[CV] END max_depth=5, max_features=0.4, min_samples_leaf=30, n_estimators=1000, n_jobs=-1; total time=   1.1s\n",
      "[CV] END max_depth=5, max_features=0.4, min_samples_leaf=30, n_estimators=1000, n_jobs=-1; total time=   1.1s\n",
      "[CV] END max_depth=5, max_features=0.4, min_samples_leaf=30, n_estimators=2000, n_jobs=-1; total time=   2.7s\n",
      "[CV] END max_depth=5, max_features=0.4, min_samples_leaf=30, n_estimators=2000, n_jobs=-1; total time=   2.7s\n",
      "[CV] END max_depth=5, max_features=0.4, min_samples_leaf=30, n_estimators=2000, n_jobs=-1; total time=   2.6s\n",
      "[CV] END max_depth=5, max_features=0.5, min_samples_leaf=10, n_estimators=1000, n_jobs=-1; total time=   1.1s\n",
      "[CV] END max_depth=5, max_features=0.5, min_samples_leaf=10, n_estimators=1000, n_jobs=-1; total time=   1.1s\n",
      "[CV] END max_depth=5, max_features=0.5, min_samples_leaf=10, n_estimators=1000, n_jobs=-1; total time=   1.1s\n",
      "[CV] END max_depth=5, max_features=0.5, min_samples_leaf=10, n_estimators=2000, n_jobs=-1; total time=   2.2s\n",
      "[CV] END max_depth=5, max_features=0.5, min_samples_leaf=10, n_estimators=2000, n_jobs=-1; total time=   2.7s\n",
      "[CV] END max_depth=5, max_features=0.5, min_samples_leaf=10, n_estimators=2000, n_jobs=-1; total time=   2.8s\n",
      "[CV] END max_depth=5, max_features=0.5, min_samples_leaf=20, n_estimators=1000, n_jobs=-1; total time=   1.1s\n",
      "[CV] END max_depth=5, max_features=0.5, min_samples_leaf=20, n_estimators=1000, n_jobs=-1; total time=   1.2s\n",
      "[CV] END max_depth=5, max_features=0.5, min_samples_leaf=20, n_estimators=1000, n_jobs=-1; total time=   1.3s\n",
      "[CV] END max_depth=5, max_features=0.5, min_samples_leaf=20, n_estimators=2000, n_jobs=-1; total time=   2.7s\n",
      "[CV] END max_depth=5, max_features=0.5, min_samples_leaf=20, n_estimators=2000, n_jobs=-1; total time=   2.5s\n",
      "[CV] END max_depth=5, max_features=0.5, min_samples_leaf=20, n_estimators=2000, n_jobs=-1; total time=   2.9s\n",
      "[CV] END max_depth=5, max_features=0.5, min_samples_leaf=30, n_estimators=1000, n_jobs=-1; total time=   1.2s\n",
      "[CV] END max_depth=5, max_features=0.5, min_samples_leaf=30, n_estimators=1000, n_jobs=-1; total time=   1.3s\n",
      "[CV] END max_depth=5, max_features=0.5, min_samples_leaf=30, n_estimators=1000, n_jobs=-1; total time=   1.1s\n",
      "[CV] END max_depth=5, max_features=0.5, min_samples_leaf=30, n_estimators=2000, n_jobs=-1; total time=   2.5s\n",
      "[CV] END max_depth=5, max_features=0.5, min_samples_leaf=30, n_estimators=2000, n_jobs=-1; total time=   2.8s\n",
      "[CV] END max_depth=5, max_features=0.5, min_samples_leaf=30, n_estimators=2000, n_jobs=-1; total time=   2.8s\n",
      "[CV] END max_depth=5, max_features=0.6, min_samples_leaf=10, n_estimators=1000, n_jobs=-1; total time=   1.2s\n",
      "[CV] END max_depth=5, max_features=0.6, min_samples_leaf=10, n_estimators=1000, n_jobs=-1; total time=   1.3s\n",
      "[CV] END max_depth=5, max_features=0.6, min_samples_leaf=10, n_estimators=1000, n_jobs=-1; total time=   1.2s\n",
      "[CV] END max_depth=5, max_features=0.6, min_samples_leaf=10, n_estimators=2000, n_jobs=-1; total time=   2.6s\n",
      "[CV] END max_depth=5, max_features=0.6, min_samples_leaf=10, n_estimators=2000, n_jobs=-1; total time=   2.9s\n",
      "[CV] END max_depth=5, max_features=0.6, min_samples_leaf=10, n_estimators=2000, n_jobs=-1; total time=   2.8s\n",
      "[CV] END max_depth=5, max_features=0.6, min_samples_leaf=20, n_estimators=1000, n_jobs=-1; total time=   1.3s\n",
      "[CV] END max_depth=5, max_features=0.6, min_samples_leaf=20, n_estimators=1000, n_jobs=-1; total time=   1.5s\n",
      "[CV] END max_depth=5, max_features=0.6, min_samples_leaf=20, n_estimators=1000, n_jobs=-1; total time=   1.3s\n",
      "[CV] END max_depth=5, max_features=0.6, min_samples_leaf=20, n_estimators=2000, n_jobs=-1; total time=   2.3s\n",
      "[CV] END max_depth=5, max_features=0.6, min_samples_leaf=20, n_estimators=2000, n_jobs=-1; total time=   2.6s\n",
      "[CV] END max_depth=5, max_features=0.6, min_samples_leaf=20, n_estimators=2000, n_jobs=-1; total time=   2.6s\n",
      "[CV] END max_depth=5, max_features=0.6, min_samples_leaf=30, n_estimators=1000, n_jobs=-1; total time=   1.2s\n",
      "[CV] END max_depth=5, max_features=0.6, min_samples_leaf=30, n_estimators=1000, n_jobs=-1; total time=   1.2s\n",
      "[CV] END max_depth=5, max_features=0.6, min_samples_leaf=30, n_estimators=1000, n_jobs=-1; total time=   1.5s\n",
      "[CV] END max_depth=5, max_features=0.6, min_samples_leaf=30, n_estimators=2000, n_jobs=-1; total time=   2.9s\n",
      "[CV] END max_depth=5, max_features=0.6, min_samples_leaf=30, n_estimators=2000, n_jobs=-1; total time=   2.4s\n",
      "[CV] END max_depth=5, max_features=0.6, min_samples_leaf=30, n_estimators=2000, n_jobs=-1; total time=   2.5s\n",
      "[CV] END max_depth=7, max_features=0.4, min_samples_leaf=10, n_estimators=1000, n_jobs=-1; total time=   1.1s\n",
      "[CV] END max_depth=7, max_features=0.4, min_samples_leaf=10, n_estimators=1000, n_jobs=-1; total time=   1.3s\n",
      "[CV] END max_depth=7, max_features=0.4, min_samples_leaf=10, n_estimators=1000, n_jobs=-1; total time=   1.2s\n",
      "[CV] END max_depth=7, max_features=0.4, min_samples_leaf=10, n_estimators=2000, n_jobs=-1; total time=   3.4s\n",
      "[CV] END max_depth=7, max_features=0.4, min_samples_leaf=10, n_estimators=2000, n_jobs=-1; total time=   2.8s\n",
      "[CV] END max_depth=7, max_features=0.4, min_samples_leaf=10, n_estimators=2000, n_jobs=-1; total time=   2.4s\n",
      "[CV] END max_depth=7, max_features=0.4, min_samples_leaf=20, n_estimators=1000, n_jobs=-1; total time=   1.3s\n",
      "[CV] END max_depth=7, max_features=0.4, min_samples_leaf=20, n_estimators=1000, n_jobs=-1; total time=   1.2s\n",
      "[CV] END max_depth=7, max_features=0.4, min_samples_leaf=20, n_estimators=1000, n_jobs=-1; total time=   1.2s\n",
      "[CV] END max_depth=7, max_features=0.4, min_samples_leaf=20, n_estimators=2000, n_jobs=-1; total time=   2.4s\n",
      "[CV] END max_depth=7, max_features=0.4, min_samples_leaf=20, n_estimators=2000, n_jobs=-1; total time=   3.1s\n",
      "[CV] END max_depth=7, max_features=0.4, min_samples_leaf=20, n_estimators=2000, n_jobs=-1; total time=   2.8s\n",
      "[CV] END max_depth=7, max_features=0.4, min_samples_leaf=30, n_estimators=1000, n_jobs=-1; total time=   1.2s\n",
      "[CV] END max_depth=7, max_features=0.4, min_samples_leaf=30, n_estimators=1000, n_jobs=-1; total time=   1.4s\n",
      "[CV] END max_depth=7, max_features=0.4, min_samples_leaf=30, n_estimators=1000, n_jobs=-1; total time=   1.5s\n",
      "[CV] END max_depth=7, max_features=0.4, min_samples_leaf=30, n_estimators=2000, n_jobs=-1; total time=   3.5s\n",
      "[CV] END max_depth=7, max_features=0.4, min_samples_leaf=30, n_estimators=2000, n_jobs=-1; total time=   2.8s\n",
      "[CV] END max_depth=7, max_features=0.4, min_samples_leaf=30, n_estimators=2000, n_jobs=-1; total time=   2.3s\n",
      "[CV] END max_depth=7, max_features=0.5, min_samples_leaf=10, n_estimators=1000, n_jobs=-1; total time=   1.4s\n",
      "[CV] END max_depth=7, max_features=0.5, min_samples_leaf=10, n_estimators=1000, n_jobs=-1; total time=   1.6s\n",
      "[CV] END max_depth=7, max_features=0.5, min_samples_leaf=10, n_estimators=1000, n_jobs=-1; total time=   1.3s\n",
      "[CV] END max_depth=7, max_features=0.5, min_samples_leaf=10, n_estimators=2000, n_jobs=-1; total time=   2.6s\n",
      "[CV] END max_depth=7, max_features=0.5, min_samples_leaf=10, n_estimators=2000, n_jobs=-1; total time=   3.1s\n",
      "[CV] END max_depth=7, max_features=0.5, min_samples_leaf=10, n_estimators=2000, n_jobs=-1; total time=   2.6s\n",
      "[CV] END max_depth=7, max_features=0.5, min_samples_leaf=20, n_estimators=1000, n_jobs=-1; total time=   1.6s\n",
      "[CV] END max_depth=7, max_features=0.5, min_samples_leaf=20, n_estimators=1000, n_jobs=-1; total time=   1.4s\n",
      "[CV] END max_depth=7, max_features=0.5, min_samples_leaf=20, n_estimators=1000, n_jobs=-1; total time=   1.5s\n",
      "[CV] END max_depth=7, max_features=0.5, min_samples_leaf=20, n_estimators=2000, n_jobs=-1; total time=   2.8s\n",
      "[CV] END max_depth=7, max_features=0.5, min_samples_leaf=20, n_estimators=2000, n_jobs=-1; total time=   2.5s\n",
      "[CV] END max_depth=7, max_features=0.5, min_samples_leaf=20, n_estimators=2000, n_jobs=-1; total time=   3.0s\n",
      "[CV] END max_depth=7, max_features=0.5, min_samples_leaf=30, n_estimators=1000, n_jobs=-1; total time=   1.3s\n",
      "[CV] END max_depth=7, max_features=0.5, min_samples_leaf=30, n_estimators=1000, n_jobs=-1; total time=   1.3s\n",
      "[CV] END max_depth=7, max_features=0.5, min_samples_leaf=30, n_estimators=1000, n_jobs=-1; total time=   1.1s\n",
      "[CV] END max_depth=7, max_features=0.5, min_samples_leaf=30, n_estimators=2000, n_jobs=-1; total time=   2.8s\n",
      "[CV] END max_depth=7, max_features=0.5, min_samples_leaf=30, n_estimators=2000, n_jobs=-1; total time=   3.2s\n",
      "[CV] END max_depth=7, max_features=0.5, min_samples_leaf=30, n_estimators=2000, n_jobs=-1; total time=   2.3s\n",
      "[CV] END max_depth=7, max_features=0.6, min_samples_leaf=10, n_estimators=1000, n_jobs=-1; total time=   1.3s\n",
      "[CV] END max_depth=7, max_features=0.6, min_samples_leaf=10, n_estimators=1000, n_jobs=-1; total time=   1.3s\n",
      "[CV] END max_depth=7, max_features=0.6, min_samples_leaf=10, n_estimators=1000, n_jobs=-1; total time=   1.2s\n",
      "[CV] END max_depth=7, max_features=0.6, min_samples_leaf=10, n_estimators=2000, n_jobs=-1; total time=   2.6s\n",
      "[CV] END max_depth=7, max_features=0.6, min_samples_leaf=10, n_estimators=2000, n_jobs=-1; total time=   3.2s\n",
      "[CV] END max_depth=7, max_features=0.6, min_samples_leaf=10, n_estimators=2000, n_jobs=-1; total time=   3.1s\n",
      "[CV] END max_depth=7, max_features=0.6, min_samples_leaf=20, n_estimators=1000, n_jobs=-1; total time=   1.9s\n",
      "[CV] END max_depth=7, max_features=0.6, min_samples_leaf=20, n_estimators=1000, n_jobs=-1; total time=   1.6s\n",
      "[CV] END max_depth=7, max_features=0.6, min_samples_leaf=20, n_estimators=1000, n_jobs=-1; total time=   1.3s\n",
      "[CV] END max_depth=7, max_features=0.6, min_samples_leaf=20, n_estimators=2000, n_jobs=-1; total time=   2.5s\n",
      "[CV] END max_depth=7, max_features=0.6, min_samples_leaf=20, n_estimators=2000, n_jobs=-1; total time=   2.6s\n",
      "[CV] END max_depth=7, max_features=0.6, min_samples_leaf=20, n_estimators=2000, n_jobs=-1; total time=   2.7s\n",
      "[CV] END max_depth=7, max_features=0.6, min_samples_leaf=30, n_estimators=1000, n_jobs=-1; total time=   1.3s\n",
      "[CV] END max_depth=7, max_features=0.6, min_samples_leaf=30, n_estimators=1000, n_jobs=-1; total time=   1.2s\n",
      "[CV] END max_depth=7, max_features=0.6, min_samples_leaf=30, n_estimators=1000, n_jobs=-1; total time=   1.6s\n",
      "[CV] END max_depth=7, max_features=0.6, min_samples_leaf=30, n_estimators=2000, n_jobs=-1; total time=   3.1s\n",
      "[CV] END max_depth=7, max_features=0.6, min_samples_leaf=30, n_estimators=2000, n_jobs=-1; total time=   3.0s\n",
      "[CV] END max_depth=7, max_features=0.6, min_samples_leaf=30, n_estimators=2000, n_jobs=-1; total time=   3.6s\n"
     ]
    }
   ],
   "source": [
    "# RandomForest - Grid Search\n",
    "from sklearn.model_selection import GridSearchCV\n",
    "params = {\n",
    "    'n_estimators' : [1000,2000], \n",
    "    'max_depth' : [3,5,7], \n",
    "    'max_features' : [0.4,0.5,0.6], \n",
    "    'min_samples_leaf' : [10,20,30], \n",
    "    'n_jobs' : [-1] \n",
    "} \n",
    "grid = GridSearchCV(rf_model,params,cv=3, verbose=2)\n",
    "grid.fit(X_train, y_train)\n",
    "grid.best_params_\n",
    "# {'max_depth': 5,\n",
    "#  'max_features': 0.7,\n",
    "#  'min_samples_leaf': 10,\n",
    "#  'n_estimators': 1000,\n",
    "#  'n_jobs': -1}\n",
    "grid.best_score_\n",
    "rf_best_model = grid.best_estimator_\n",
    "rf_best_cross = cross_val_score(rf_best_model, X_train, y_train, cv=5)\n",
    "rf_best_cross.mean()\n",
    "rf_best_model.predict(test)\n",
    "submission['Reached.on.Time_Y.N'] = rf_best_model.predict(test)\n",
    "submission\n",
    "omr = pd.read_csv('./data/sampleSubmission.csv')\n",
    "omr['Reached.on.Time_Y.N'] = pre\n",
    "omr.to_csv('Kaggle_02.csv', index = False)"
   ]
  },
  {
   "cell_type": "code",
   "execution_count": null,
   "id": "12a94736",
   "metadata": {},
   "outputs": [],
   "source": [
    "# Gradient Boosting\n",
    "from sklearn.ensemble import GradientBoostingClassifier\n",
    "gb_model = GradientBoostingClassifier(n_estimators=1000,\n",
    "                          max_depth=5,\n",
    "                          learning_rate=0.1) # 오차를 얼마나 반영시킬지\n",
    "gb_model.fit(X_train, y_train)\n",
    "print(gb_model.score(X_train,y_train))\n",
    "print(gb_model.score(X_test,y_test))\n",
    "print(cross_val_score(gb_model,X_train,y_train, cv=5).mean())\n"
   ]
  },
  {
   "cell_type": "code",
   "execution_count": null,
   "id": "5543e19f",
   "metadata": {},
   "outputs": [],
   "source": [
    "# XGB\n",
    "from xgboost import XGBClassifier\n",
    "xgb_model = XGBClassifier(booster='gbtree', # 트리모델로 분류\n",
    "             objective = 'binary:logistic', \n",
    "             n_estimators = 1000,\n",
    "             max_depth=5,\n",
    "             learning_rate = 0.01)\n",
    "xgb_model.fit(X_train,y_train)\n",
    "print(xgb_model.score(X_train,y_train))\n",
    "print(xgb_model.score(X_test,y_test))\n",
    "print(cross_val_score(xgb_model,X_train,y_train, cv=5).mean())\n",
    "params3 = {\n",
    "    'booster' : ['gbtree'], \n",
    "    'objective' : ['binary:logistic'], \n",
    "    'n_estimators' : [1000,2000], \n",
    "    'max_depth' : [3,5,7],\n",
    "    'learning_rate' : [0.01,0.05,0.01],\n",
    "    'n_jobs' : [-1] \n",
    "}\n",
    "grid3 = GridSearchCV(xgb_model,params3,cv=3, verbose=2)\n",
    "grid3.fit(X_train, y_train)\n",
    "grid3.best_params_\n",
    "grid3.best_score_\n",
    "grid_best_model = grid3.best_estimator_\n",
    "grid_best_cross = cross_val_score(grid_best_model, X_train, y_train, cv=3)\n",
    "grid_best_cross.mean()\n",
    "submission['Reached.on.Time_Y.N'] = grid_best_model.predict(test)\n",
    "submission\n",
    "submission.to_csv('KaggleCompetition/xgb2.csv', index = False)"
   ]
  },
  {
   "cell_type": "code",
   "execution_count": 28,
   "id": "4f3b5d73",
   "metadata": {},
   "outputs": [
    {
     "name": "stdout",
     "output_type": "stream",
     "text": [
      "Requirement already satisfied: catboost in c:\\users\\smhrd\\anaconda3\\lib\\site-packages (1.2)\n",
      "Requirement already satisfied: plotly in c:\\users\\smhrd\\anaconda3\\lib\\site-packages (from catboost) (5.9.0)\n",
      "Requirement already satisfied: scipy in c:\\users\\smhrd\\anaconda3\\lib\\site-packages (from catboost) (1.10.0)\n",
      "Requirement already satisfied: matplotlib in c:\\users\\smhrd\\anaconda3\\lib\\site-packages (from catboost) (3.7.0)\n",
      "Requirement already satisfied: six in c:\\users\\smhrd\\anaconda3\\lib\\site-packages (from catboost) (1.16.0)\n",
      "Requirement already satisfied: numpy>=1.16.0 in c:\\users\\smhrd\\anaconda3\\lib\\site-packages (from catboost) (1.23.5)\n",
      "Requirement already satisfied: pandas>=0.24 in c:\\users\\smhrd\\anaconda3\\lib\\site-packages (from catboost) (1.5.3)\n",
      "Requirement already satisfied: graphviz in c:\\users\\smhrd\\anaconda3\\lib\\site-packages (from catboost) (0.20.1)\n",
      "Requirement already satisfied: python-dateutil>=2.8.1 in c:\\users\\smhrd\\anaconda3\\lib\\site-packages (from pandas>=0.24->catboost) (2.8.2)\n",
      "Requirement already satisfied: pytz>=2020.1 in c:\\users\\smhrd\\anaconda3\\lib\\site-packages (from pandas>=0.24->catboost) (2022.7)\n",
      "Requirement already satisfied: kiwisolver>=1.0.1 in c:\\users\\smhrd\\anaconda3\\lib\\site-packages (from matplotlib->catboost) (1.4.4)\n",
      "Requirement already satisfied: pyparsing>=2.3.1 in c:\\users\\smhrd\\anaconda3\\lib\\site-packages (from matplotlib->catboost) (3.0.9)\n",
      "Requirement already satisfied: cycler>=0.10 in c:\\users\\smhrd\\anaconda3\\lib\\site-packages (from matplotlib->catboost) (0.11.0)\n",
      "Requirement already satisfied: packaging>=20.0 in c:\\users\\smhrd\\anaconda3\\lib\\site-packages (from matplotlib->catboost) (22.0)\n",
      "Requirement already satisfied: pillow>=6.2.0 in c:\\users\\smhrd\\anaconda3\\lib\\site-packages (from matplotlib->catboost) (9.4.0)\n",
      "Requirement already satisfied: fonttools>=4.22.0 in c:\\users\\smhrd\\anaconda3\\lib\\site-packages (from matplotlib->catboost) (4.25.0)\n",
      "Requirement already satisfied: contourpy>=1.0.1 in c:\\users\\smhrd\\anaconda3\\lib\\site-packages (from matplotlib->catboost) (1.0.5)\n",
      "Requirement already satisfied: tenacity>=6.2.0 in c:\\users\\smhrd\\anaconda3\\lib\\site-packages (from plotly->catboost) (8.0.1)\n"
     ]
    }
   ],
   "source": [
    "!pip install catboost"
   ]
  },
  {
   "cell_type": "code",
   "execution_count": null,
   "id": "d772ac3d",
   "metadata": {},
   "outputs": [],
   "source": []
  },
  {
   "cell_type": "code",
   "execution_count": null,
   "id": "3b9643d6",
   "metadata": {},
   "outputs": [],
   "source": []
  },
  {
   "cell_type": "code",
   "execution_count": null,
   "id": "e47ebe17",
   "metadata": {},
   "outputs": [],
   "source": []
  },
  {
   "cell_type": "code",
   "execution_count": null,
   "id": "804c5821",
   "metadata": {},
   "outputs": [],
   "source": []
  },
  {
   "cell_type": "code",
   "execution_count": null,
   "id": "368ff842",
   "metadata": {},
   "outputs": [],
   "source": []
  },
  {
   "cell_type": "code",
   "execution_count": null,
   "id": "adca0e99",
   "metadata": {},
   "outputs": [],
   "source": []
  },
  {
   "cell_type": "code",
   "execution_count": null,
   "id": "25e7c4ed",
   "metadata": {},
   "outputs": [],
   "source": []
  },
  {
   "cell_type": "code",
   "execution_count": null,
   "id": "abb79f6f",
   "metadata": {},
   "outputs": [],
   "source": []
  },
  {
   "cell_type": "code",
   "execution_count": null,
   "id": "6c9c99e1",
   "metadata": {},
   "outputs": [],
   "source": []
  },
  {
   "cell_type": "code",
   "execution_count": null,
   "id": "01f27022",
   "metadata": {},
   "outputs": [],
   "source": []
  },
  {
   "cell_type": "code",
   "execution_count": null,
   "id": "35002922",
   "metadata": {},
   "outputs": [],
   "source": []
  },
  {
   "cell_type": "code",
   "execution_count": null,
   "id": "5907f991",
   "metadata": {},
   "outputs": [],
   "source": []
  },
  {
   "cell_type": "code",
   "execution_count": null,
   "id": "6b493330",
   "metadata": {},
   "outputs": [],
   "source": []
  },
  {
   "cell_type": "code",
   "execution_count": null,
   "id": "963af9d7",
   "metadata": {},
   "outputs": [],
   "source": []
  },
  {
   "cell_type": "code",
   "execution_count": null,
   "id": "8f43e370",
   "metadata": {},
   "outputs": [],
   "source": []
  },
  {
   "cell_type": "code",
   "execution_count": null,
   "id": "58e8b384",
   "metadata": {},
   "outputs": [],
   "source": []
  },
  {
   "cell_type": "code",
   "execution_count": null,
   "id": "87d6dffe",
   "metadata": {},
   "outputs": [],
   "source": []
  },
  {
   "cell_type": "code",
   "execution_count": null,
   "id": "0b309a52",
   "metadata": {},
   "outputs": [],
   "source": []
  },
  {
   "cell_type": "code",
   "execution_count": null,
   "id": "b2eb6710",
   "metadata": {},
   "outputs": [],
   "source": []
  },
  {
   "cell_type": "code",
   "execution_count": null,
   "id": "f3df92b3",
   "metadata": {},
   "outputs": [],
   "source": []
  }
 ],
 "metadata": {
  "kernelspec": {
   "display_name": "Python 3 (ipykernel)",
   "language": "python",
   "name": "python3"
  },
  "language_info": {
   "codemirror_mode": {
    "name": "ipython",
    "version": 3
   },
   "file_extension": ".py",
   "mimetype": "text/x-python",
   "name": "python",
   "nbconvert_exporter": "python",
   "pygments_lexer": "ipython3",
   "version": "3.10.6"
  }
 },
 "nbformat": 4,
 "nbformat_minor": 5
}
